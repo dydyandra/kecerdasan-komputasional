{
  "nbformat": 4,
  "nbformat_minor": 0,
  "metadata": {
    "colab": {
      "name": "California Hierarchical Clustering_05111940000119.ipynb",
      "provenance": [],
      "toc_visible": true,
      "authorship_tag": "ABX9TyNmGL1AifriBh+HcQb+oNT+",
      "include_colab_link": true
    },
    "kernelspec": {
      "name": "python3",
      "display_name": "Python 3"
    },
    "language_info": {
      "name": "python"
    }
  },
  "cells": [
    {
      "cell_type": "markdown",
      "metadata": {
        "id": "view-in-github",
        "colab_type": "text"
      },
      "source": [
        "<a href=\"https://colab.research.google.com/github/dydyandra/kecerdasan-komputasional/blob/master/California_Hierarchical_Clustering_05111940000119.ipynb\" target=\"_parent\"><img src=\"https://colab.research.google.com/assets/colab-badge.svg\" alt=\"Open In Colab\"/></a>"
      ]
    },
    {
      "cell_type": "markdown",
      "metadata": {
        "id": "HIQZ6TMCrjDf"
      },
      "source": [
        "# Tugas California Housing Hierarchical Clustering\n",
        "Nama: Dyandra Paramitha Widyadhana<br>\n",
        "NRP: 05111940000119<br>\n",
        "Kelas: KK F"
      ]
    },
    {
      "cell_type": "markdown",
      "metadata": {
        "id": "NBvzFVPXrvrC"
      },
      "source": [
        "# Tahap 1: Membaca Dataset, Feature Selection, Data Preprocessing. \n",
        "Link Dataset: [California House Prices](https://www.kaggle.com/camnugent/california-housing-prices)\n",
        "\n",
        "Langkah-langkah awal dari melakukan clustering sama dengan pada penugasan KMeans Clustering sebelumnya yaitu dengan: \n",
        "1.\tMembaca dataset\n",
        "2.\tData Preprocessing\n",
        "3.\tFeature Selection\n",
        "\n",
        "Adapun penjelasan langkah-langkah ini sama dengan [KMeans Clustering](https://colab.research.google.com/drive/1tm4y6mVOSF90r-yG6c2dWnlaBfCON4Uu?authuser=5#scrollTo=tFdcRU2ymwcw)"
      ]
    },
    {
      "cell_type": "markdown",
      "metadata": {
        "id": "XE5av2F_sgLe"
      },
      "source": [
        "## Membaca Dataset"
      ]
    },
    {
      "cell_type": "markdown",
      "metadata": {
        "id": "Wavpaex3ry5z"
      },
      "source": [
        "1.\tSebelum melakukan clustering, yang pertama harus dilakukan yaitu melakukan import library yang dibutuhkan. Ada beberapa library yang dibutuhkan seperti pandas, numpy, matplotlib, seaborn, KMeans dan datasets (yang berasal dari Machine Learning Library scikit-learn). "
      ]
    },
    {
      "cell_type": "code",
      "metadata": {
        "id": "CM2_bn_G9YxJ"
      },
      "source": [
        "# importing libraries used \n",
        "import pandas as pd\n",
        "import numpy as np\n",
        "import matplotlib.pyplot as plt\n",
        "import seaborn as sns\n",
        "from sklearn import datasets\n",
        "import scipy.cluster.hierarchy as sch\n",
        "from scipy.cluster.hierarchy import dendrogram, linkage\n",
        "from sklearn.cluster import AgglomerativeClustering\n",
        "from sklearn.metrics import silhouette_samples, silhouette_score\n",
        "import matplotlib.cm as cm\n",
        "from mpl_toolkits.mplot3d import Axes3D\n",
        "from scipy.cluster.vq import vq\n",
        "from sklearn.neighbors import NearestCentroid"
      ],
      "execution_count": null,
      "outputs": []
    },
    {
      "cell_type": "markdown",
      "metadata": {
        "id": "uNZMyGX-sZlX"
      },
      "source": [
        "2.\tSetelah library berhasil diimport, kemudian kita harus membaca file housing.csv untuk mendapatkan dataset yang kita butuhkan untuk clustering. Dalam membaca file, dapat digunakan library pandas yaitu read_csv. \n",
        "Setelah file berhasil dibaca, kita dapat melihat isi dan summary dari dataset menggunakan df.head() untuk menampilkan 5 data pertama.\n"
      ]
    },
    {
      "cell_type": "code",
      "metadata": {
        "colab": {
          "base_uri": "https://localhost:8080/",
          "height": 206
        },
        "id": "gUbBTRQ0-2ZE",
        "outputId": "f63f44fa-eb14-4064-8f7c-cca38c08a72e"
      },
      "source": [
        "# reading the data\n",
        "df = pd.read_csv('housing.csv')\n",
        "df.head()"
      ],
      "execution_count": null,
      "outputs": [
        {
          "output_type": "execute_result",
          "data": {
            "text/html": [
              "<div>\n",
              "<style scoped>\n",
              "    .dataframe tbody tr th:only-of-type {\n",
              "        vertical-align: middle;\n",
              "    }\n",
              "\n",
              "    .dataframe tbody tr th {\n",
              "        vertical-align: top;\n",
              "    }\n",
              "\n",
              "    .dataframe thead th {\n",
              "        text-align: right;\n",
              "    }\n",
              "</style>\n",
              "<table border=\"1\" class=\"dataframe\">\n",
              "  <thead>\n",
              "    <tr style=\"text-align: right;\">\n",
              "      <th></th>\n",
              "      <th>longitude</th>\n",
              "      <th>latitude</th>\n",
              "      <th>housing_median_age</th>\n",
              "      <th>total_rooms</th>\n",
              "      <th>total_bedrooms</th>\n",
              "      <th>population</th>\n",
              "      <th>households</th>\n",
              "      <th>median_income</th>\n",
              "      <th>median_house_value</th>\n",
              "      <th>ocean_proximity</th>\n",
              "    </tr>\n",
              "  </thead>\n",
              "  <tbody>\n",
              "    <tr>\n",
              "      <th>0</th>\n",
              "      <td>-122.23</td>\n",
              "      <td>37.88</td>\n",
              "      <td>41.0</td>\n",
              "      <td>880.0</td>\n",
              "      <td>129.0</td>\n",
              "      <td>322.0</td>\n",
              "      <td>126.0</td>\n",
              "      <td>8.3252</td>\n",
              "      <td>452600.0</td>\n",
              "      <td>NEAR BAY</td>\n",
              "    </tr>\n",
              "    <tr>\n",
              "      <th>1</th>\n",
              "      <td>-122.22</td>\n",
              "      <td>37.86</td>\n",
              "      <td>21.0</td>\n",
              "      <td>7099.0</td>\n",
              "      <td>1106.0</td>\n",
              "      <td>2401.0</td>\n",
              "      <td>1138.0</td>\n",
              "      <td>8.3014</td>\n",
              "      <td>358500.0</td>\n",
              "      <td>NEAR BAY</td>\n",
              "    </tr>\n",
              "    <tr>\n",
              "      <th>2</th>\n",
              "      <td>-122.24</td>\n",
              "      <td>37.85</td>\n",
              "      <td>52.0</td>\n",
              "      <td>1467.0</td>\n",
              "      <td>190.0</td>\n",
              "      <td>496.0</td>\n",
              "      <td>177.0</td>\n",
              "      <td>7.2574</td>\n",
              "      <td>352100.0</td>\n",
              "      <td>NEAR BAY</td>\n",
              "    </tr>\n",
              "    <tr>\n",
              "      <th>3</th>\n",
              "      <td>-122.25</td>\n",
              "      <td>37.85</td>\n",
              "      <td>52.0</td>\n",
              "      <td>1274.0</td>\n",
              "      <td>235.0</td>\n",
              "      <td>558.0</td>\n",
              "      <td>219.0</td>\n",
              "      <td>5.6431</td>\n",
              "      <td>341300.0</td>\n",
              "      <td>NEAR BAY</td>\n",
              "    </tr>\n",
              "    <tr>\n",
              "      <th>4</th>\n",
              "      <td>-122.25</td>\n",
              "      <td>37.85</td>\n",
              "      <td>52.0</td>\n",
              "      <td>1627.0</td>\n",
              "      <td>280.0</td>\n",
              "      <td>565.0</td>\n",
              "      <td>259.0</td>\n",
              "      <td>3.8462</td>\n",
              "      <td>342200.0</td>\n",
              "      <td>NEAR BAY</td>\n",
              "    </tr>\n",
              "  </tbody>\n",
              "</table>\n",
              "</div>"
            ],
            "text/plain": [
              "   longitude  latitude  ...  median_house_value  ocean_proximity\n",
              "0    -122.23     37.88  ...            452600.0         NEAR BAY\n",
              "1    -122.22     37.86  ...            358500.0         NEAR BAY\n",
              "2    -122.24     37.85  ...            352100.0         NEAR BAY\n",
              "3    -122.25     37.85  ...            341300.0         NEAR BAY\n",
              "4    -122.25     37.85  ...            342200.0         NEAR BAY\n",
              "\n",
              "[5 rows x 10 columns]"
            ]
          },
          "metadata": {},
          "execution_count": 2
        }
      ]
    },
    {
      "cell_type": "markdown",
      "metadata": {
        "id": "r2jmp2tBsc00"
      },
      "source": [
        "Dapat dilihat beberapa isi dari dataset, yang terdiri atas longitude, latitude, housing_median_age, total_rooms, total_bedrooms, population, households, median_income, median_house_value, ocean_proximity. \n",
        "\n",
        "Dapat dilihat juga bahwa semua kolom memiliki tipe data numerical, kecuali ocean_proximity yang merupakan categorical data. \n"
      ]
    },
    {
      "cell_type": "markdown",
      "metadata": {
        "id": "1ticPOcFskG1"
      },
      "source": [
        "## Data Preprocessing"
      ]
    },
    {
      "cell_type": "markdown",
      "metadata": {
        "id": "tKmLoNUTsnJW"
      },
      "source": [
        "3.\tUntuk melihat summary, kita dapat menggunakan df.info(), yang akan menampilkan beberapa hal seperti tipe, rentang index, isi kolom dataset dengan jumlah dan jenis masing-masing fitur. "
      ]
    },
    {
      "cell_type": "code",
      "metadata": {
        "colab": {
          "base_uri": "https://localhost:8080/"
        },
        "id": "BhTStNFq_JTq",
        "outputId": "f0fe6aea-c784-4d92-c7ef-4e7daca1a580"
      },
      "source": [
        "df.info()"
      ],
      "execution_count": null,
      "outputs": [
        {
          "output_type": "stream",
          "name": "stdout",
          "text": [
            "<class 'pandas.core.frame.DataFrame'>\n",
            "RangeIndex: 20640 entries, 0 to 20639\n",
            "Data columns (total 10 columns):\n",
            " #   Column              Non-Null Count  Dtype  \n",
            "---  ------              --------------  -----  \n",
            " 0   longitude           20640 non-null  float64\n",
            " 1   latitude            20640 non-null  float64\n",
            " 2   housing_median_age  20640 non-null  float64\n",
            " 3   total_rooms         20640 non-null  float64\n",
            " 4   total_bedrooms      20433 non-null  float64\n",
            " 5   population          20640 non-null  float64\n",
            " 6   households          20640 non-null  float64\n",
            " 7   median_income       20640 non-null  float64\n",
            " 8   median_house_value  20640 non-null  float64\n",
            " 9   ocean_proximity     20640 non-null  object \n",
            "dtypes: float64(9), object(1)\n",
            "memory usage: 1.6+ MB\n"
          ]
        }
      ]
    },
    {
      "cell_type": "markdown",
      "metadata": {
        "id": "XzZOj7Bpsom1"
      },
      "source": [
        "4.\tDengan menggunakan df.isnull().sum() yang akan mengembalikan jumlah data yang hilang dari dataset. Tujuan kita adalah untuk melihat apakah atribut yang dibutuhkan memiliki data yang lengkap atau tidak. Data yang hilang dapat berdampak besar pada model yang dibuat dikarenakan dapat mengurasi keakurasian dari data. \n"
      ]
    },
    {
      "cell_type": "code",
      "metadata": {
        "colab": {
          "base_uri": "https://localhost:8080/"
        },
        "id": "aUPDpyZJ_KcA",
        "outputId": "396b35d0-d7ba-45cb-c0d2-511eb5799ece"
      },
      "source": [
        "# finding missing data\n",
        "df.isnull().sum()"
      ],
      "execution_count": null,
      "outputs": [
        {
          "output_type": "execute_result",
          "data": {
            "text/plain": [
              "longitude               0\n",
              "latitude                0\n",
              "housing_median_age      0\n",
              "total_rooms             0\n",
              "total_bedrooms        207\n",
              "population              0\n",
              "households              0\n",
              "median_income           0\n",
              "median_house_value      0\n",
              "ocean_proximity         0\n",
              "dtype: int64"
            ]
          },
          "metadata": {},
          "execution_count": 4
        }
      ]
    },
    {
      "cell_type": "markdown",
      "metadata": {
        "id": "PqPG3XZ4sqMH"
      },
      "source": [
        "Dapat dilihat bahwa terdapat 20640 data dalam dataset. Terlihat juga bahwa terdapat missing value pada total_bedrooms sebanyak 207 data. Akan tetapi, dikarenakan fitur yang digunakan yaitu longitude dan latitude, maka missing value pada total_bedrooms tidak akan mempengaruhi banyak terhadap clustering yang akan dilakukan. "
      ]
    },
    {
      "cell_type": "markdown",
      "metadata": {
        "id": "BsmcHrtmsq30"
      },
      "source": [
        "## Feature Selection"
      ]
    },
    {
      "cell_type": "markdown",
      "metadata": {
        "id": "gW0BiEYfsuG5"
      },
      "source": [
        "5.\tSetelah melakukan data preprocessing, kemudian kita bisa memilih feature selection untuk digunakan dalam model Clustering kita. Feature selection digunakan untuk mengambil data-data yang dibutuhkan dan bertujuan untuk memilih feature yang berpengaruh dan mengesampingkan feature yang tidak berpengaruh dalam suatu kegiatan pemodelan atau penganalisaan data. \n",
        "\n",
        "<br>Dikarenakan yang diminta yaitu longitude dan latitude, kita dapat mengambil 2 kolom pertama dari dataframe. Untuk ini, kita bisa menggunakan df.iloc[:, [0,1]] , untuk mendapat baris (atau kolom) pada posisi tertentu dalam indeks.  Adapun kita membuat DataFrame baru yang bernama feature_df.\n",
        "\n",
        "\n",
        "\n",
        "\n",
        "\n"
      ]
    },
    {
      "cell_type": "code",
      "metadata": {
        "id": "ZmODfbsH_LvN"
      },
      "source": [
        "#feature selection (longitude, latitude)\n",
        "feature_df = df.iloc[:, [0,1]] "
      ],
      "execution_count": null,
      "outputs": []
    },
    {
      "cell_type": "code",
      "metadata": {
        "colab": {
          "base_uri": "https://localhost:8080/",
          "height": 423
        },
        "id": "bXw3GP_G_MhV",
        "outputId": "b950dad2-f50e-428d-bf0d-32122ca679e9"
      },
      "source": [
        "feature_df"
      ],
      "execution_count": null,
      "outputs": [
        {
          "output_type": "execute_result",
          "data": {
            "text/html": [
              "<div>\n",
              "<style scoped>\n",
              "    .dataframe tbody tr th:only-of-type {\n",
              "        vertical-align: middle;\n",
              "    }\n",
              "\n",
              "    .dataframe tbody tr th {\n",
              "        vertical-align: top;\n",
              "    }\n",
              "\n",
              "    .dataframe thead th {\n",
              "        text-align: right;\n",
              "    }\n",
              "</style>\n",
              "<table border=\"1\" class=\"dataframe\">\n",
              "  <thead>\n",
              "    <tr style=\"text-align: right;\">\n",
              "      <th></th>\n",
              "      <th>longitude</th>\n",
              "      <th>latitude</th>\n",
              "    </tr>\n",
              "  </thead>\n",
              "  <tbody>\n",
              "    <tr>\n",
              "      <th>0</th>\n",
              "      <td>-122.23</td>\n",
              "      <td>37.88</td>\n",
              "    </tr>\n",
              "    <tr>\n",
              "      <th>1</th>\n",
              "      <td>-122.22</td>\n",
              "      <td>37.86</td>\n",
              "    </tr>\n",
              "    <tr>\n",
              "      <th>2</th>\n",
              "      <td>-122.24</td>\n",
              "      <td>37.85</td>\n",
              "    </tr>\n",
              "    <tr>\n",
              "      <th>3</th>\n",
              "      <td>-122.25</td>\n",
              "      <td>37.85</td>\n",
              "    </tr>\n",
              "    <tr>\n",
              "      <th>4</th>\n",
              "      <td>-122.25</td>\n",
              "      <td>37.85</td>\n",
              "    </tr>\n",
              "    <tr>\n",
              "      <th>...</th>\n",
              "      <td>...</td>\n",
              "      <td>...</td>\n",
              "    </tr>\n",
              "    <tr>\n",
              "      <th>20635</th>\n",
              "      <td>-121.09</td>\n",
              "      <td>39.48</td>\n",
              "    </tr>\n",
              "    <tr>\n",
              "      <th>20636</th>\n",
              "      <td>-121.21</td>\n",
              "      <td>39.49</td>\n",
              "    </tr>\n",
              "    <tr>\n",
              "      <th>20637</th>\n",
              "      <td>-121.22</td>\n",
              "      <td>39.43</td>\n",
              "    </tr>\n",
              "    <tr>\n",
              "      <th>20638</th>\n",
              "      <td>-121.32</td>\n",
              "      <td>39.43</td>\n",
              "    </tr>\n",
              "    <tr>\n",
              "      <th>20639</th>\n",
              "      <td>-121.24</td>\n",
              "      <td>39.37</td>\n",
              "    </tr>\n",
              "  </tbody>\n",
              "</table>\n",
              "<p>20640 rows × 2 columns</p>\n",
              "</div>"
            ],
            "text/plain": [
              "       longitude  latitude\n",
              "0        -122.23     37.88\n",
              "1        -122.22     37.86\n",
              "2        -122.24     37.85\n",
              "3        -122.25     37.85\n",
              "4        -122.25     37.85\n",
              "...          ...       ...\n",
              "20635    -121.09     39.48\n",
              "20636    -121.21     39.49\n",
              "20637    -121.22     39.43\n",
              "20638    -121.32     39.43\n",
              "20639    -121.24     39.37\n",
              "\n",
              "[20640 rows x 2 columns]"
            ]
          },
          "metadata": {},
          "execution_count": 6
        }
      ]
    },
    {
      "cell_type": "markdown",
      "metadata": {
        "id": "x0MdnTFAs3C_"
      },
      "source": [
        "6.\tDari data sebelum dilakukan pemodelan, dilihat terlebih dahulu apakah terdapat data yang harus dinormalisasi atau tidak. Normalisasi data adalah proses membuat beberapa variabel memiliki rentang nilai yang sama apabila rentang pada data asli terlalu jauh, untuk memudahkan analisis statistic dan pemodelan data nantinya. \n",
        "\n"
      ]
    },
    {
      "cell_type": "code",
      "metadata": {
        "colab": {
          "base_uri": "https://localhost:8080/",
          "height": 300
        },
        "id": "XhVnqVdN_Nwy",
        "outputId": "be3df706-4d6c-4931-fc1d-46d579c4ed84"
      },
      "source": [
        "feature_df.describe()"
      ],
      "execution_count": null,
      "outputs": [
        {
          "output_type": "execute_result",
          "data": {
            "text/html": [
              "<div>\n",
              "<style scoped>\n",
              "    .dataframe tbody tr th:only-of-type {\n",
              "        vertical-align: middle;\n",
              "    }\n",
              "\n",
              "    .dataframe tbody tr th {\n",
              "        vertical-align: top;\n",
              "    }\n",
              "\n",
              "    .dataframe thead th {\n",
              "        text-align: right;\n",
              "    }\n",
              "</style>\n",
              "<table border=\"1\" class=\"dataframe\">\n",
              "  <thead>\n",
              "    <tr style=\"text-align: right;\">\n",
              "      <th></th>\n",
              "      <th>longitude</th>\n",
              "      <th>latitude</th>\n",
              "    </tr>\n",
              "  </thead>\n",
              "  <tbody>\n",
              "    <tr>\n",
              "      <th>count</th>\n",
              "      <td>20640.000000</td>\n",
              "      <td>20640.000000</td>\n",
              "    </tr>\n",
              "    <tr>\n",
              "      <th>mean</th>\n",
              "      <td>-119.569704</td>\n",
              "      <td>35.631861</td>\n",
              "    </tr>\n",
              "    <tr>\n",
              "      <th>std</th>\n",
              "      <td>2.003532</td>\n",
              "      <td>2.135952</td>\n",
              "    </tr>\n",
              "    <tr>\n",
              "      <th>min</th>\n",
              "      <td>-124.350000</td>\n",
              "      <td>32.540000</td>\n",
              "    </tr>\n",
              "    <tr>\n",
              "      <th>25%</th>\n",
              "      <td>-121.800000</td>\n",
              "      <td>33.930000</td>\n",
              "    </tr>\n",
              "    <tr>\n",
              "      <th>50%</th>\n",
              "      <td>-118.490000</td>\n",
              "      <td>34.260000</td>\n",
              "    </tr>\n",
              "    <tr>\n",
              "      <th>75%</th>\n",
              "      <td>-118.010000</td>\n",
              "      <td>37.710000</td>\n",
              "    </tr>\n",
              "    <tr>\n",
              "      <th>max</th>\n",
              "      <td>-114.310000</td>\n",
              "      <td>41.950000</td>\n",
              "    </tr>\n",
              "  </tbody>\n",
              "</table>\n",
              "</div>"
            ],
            "text/plain": [
              "          longitude      latitude\n",
              "count  20640.000000  20640.000000\n",
              "mean    -119.569704     35.631861\n",
              "std        2.003532      2.135952\n",
              "min     -124.350000     32.540000\n",
              "25%     -121.800000     33.930000\n",
              "50%     -118.490000     34.260000\n",
              "75%     -118.010000     37.710000\n",
              "max     -114.310000     41.950000"
            ]
          },
          "metadata": {},
          "execution_count": 7
        }
      ]
    },
    {
      "cell_type": "markdown",
      "metadata": {
        "id": "CFAoq6p3s4yb"
      },
      "source": [
        "Akan tetapi, dapat dilihat bahwa rentang nilai dari longitude [-119.6, -114.3] dan latitude [35,6, 42] tidak terlalu besar. Dapat juga dilihat dari standar deviasinya yang tidak terlalu besar, sehingga data tidak perlu dinormalisasi kembali. "
      ]
    },
    {
      "cell_type": "markdown",
      "metadata": {
        "id": "UFqQfc6_s6e1"
      },
      "source": [
        "7.\tSetelah itu, DataFrame feature_df agar dapat dilakukan pemodelan harus diubah menjadi array. Untuk melakukan ini, dapat menggunakan library numpy, yaitu np.array, yang akan mengkonversikan yang sebelumnya bertipe DataFrame menjadi array 2D. "
      ]
    },
    {
      "cell_type": "code",
      "metadata": {
        "colab": {
          "base_uri": "https://localhost:8080/"
        },
        "id": "pRvdVfRI_O-P",
        "outputId": "26b811cb-f7dc-4422-e24e-e9e7a58378af"
      },
      "source": [
        "x  = np.array(feature_df)\n",
        "x"
      ],
      "execution_count": null,
      "outputs": [
        {
          "output_type": "execute_result",
          "data": {
            "text/plain": [
              "array([[-122.23,   37.88],\n",
              "       [-122.22,   37.86],\n",
              "       [-122.24,   37.85],\n",
              "       ...,\n",
              "       [-121.22,   39.43],\n",
              "       [-121.32,   39.43],\n",
              "       [-121.24,   39.37]])"
            ]
          },
          "metadata": {},
          "execution_count": 8
        }
      ]
    },
    {
      "cell_type": "markdown",
      "metadata": {
        "id": "iIZHvKthtYFM"
      },
      "source": [
        ""
      ]
    },
    {
      "cell_type": "markdown",
      "metadata": {
        "id": "XtZLyf44s7h8"
      },
      "source": [
        "# Tahap 2: Hiearchical Clustering\n",
        "Hierarchical Clustering atau Klasterisasi Hirarki adalah teknik clustering membentuk hirarki berdasarkan tingkatan tertentu sehingga menyerupai pohon. Metode hierarki ini biasa digunakan untuk data yang berjumlah sedikit dan jumlah cluster yang belum diketahui. \n",
        "\n",
        "Terdapat 2 jenis clustering yaitu: \n",
        "1. **Agglomerative** : Metode pengelompokan data yang dimulai dengan setiap satu pengamatan sebagai clusternya sendiri kemudian terus mengelompokkan pengamatan ke dalam kelompok yang semakin besar.\n",
        "2. **Divisive** : Metode pengelompokan data yang didasarkan pada persamaan nilai rata-rata antar objek, dan dimulai dari semua objek dikelompokkan menjadi cluster tunggal kemudian dipisah sampai setiap objek berada dalam cluster yang terpisah. \n",
        "\n",
        "Pada kali ini, kita akan menggunakan **Agglomerative Clustering**\n",
        "\n",
        "Adapula beberapa method yang bisa digunakan yaitu: \n",
        "1. Single linkage\n",
        "2. Average linkage\n",
        "3. Complete linkage\n",
        "4. Centroid linkage\n",
        "5. Medoid linkage\n",
        "6. Ward linkage\n",
        "\n",
        "pada kali ini, kita akan melakukan perbandingan kinerja dari **average linkage, complete linkage, dan ward linkage.**"
      ]
    },
    {
      "cell_type": "markdown",
      "metadata": {
        "id": "QiQIgUWQt3NH"
      },
      "source": [
        "## Fungsi-fungsi yang digunakan"
      ]
    },
    {
      "cell_type": "markdown",
      "metadata": {
        "id": "mrbjPfsVuD9F"
      },
      "source": [
        "#### Mencari Centroid\n",
        "8.\tFungsi digunakan untuk mencari centroid dari n-cluster yang dicari. Hasil dari fungsi ini akan digunakan untuk menghitung within cluster sum of squares (WSS) dan between cluster sum of squares (BSS). "
      ]
    },
    {
      "cell_type": "code",
      "metadata": {
        "id": "0_Wx96gDGOeN"
      },
      "source": [
        "def find_centroids(df, y_predict):\n",
        "    clf = NearestCentroid()\n",
        "    clf.fit(df, y_predict)\n",
        "    print(\"Centroids:\")\n",
        "    print(clf.centroids_)\n",
        "    print(type(clf.centroids_))\n",
        "    return clf"
      ],
      "execution_count": null,
      "outputs": []
    },
    {
      "cell_type": "markdown",
      "metadata": {
        "id": "PZWiisi9uLrd"
      },
      "source": [
        "### Mencari WSS dan BSS"
      ]
    },
    {
      "cell_type": "markdown",
      "metadata": {
        "id": "1oLWUO9quNzF"
      },
      "source": [
        "9.\tFungsi digunakan untuk mencari perhitungan cluster cohesion dan cluster separation WSS dan BSS, yaitu dengan mencari TSS (Total Sum of Squares) terlebih dahulu, dan kemudian mencari WSS menggunakan rumus. "
      ]
    },
    {
      "cell_type": "code",
      "metadata": {
        "id": "7HFtQaobHr-2"
      },
      "source": [
        "def wss_bss(x, centroids):\n",
        "        partition, euc_distance_to_centroids = vq(x, centroids)\n",
        "\n",
        "        TSS = np.sum((x-x.mean(0))**2)\n",
        "        WSS = np.sum(euc_distance_to_centroids**2)\n",
        "        BSS = TSS - WSS\n",
        "        print('Within Cluster Sums of Squares: ', WSS)\n",
        "        print('Between Cluster Sum of Squares: ', BSS)"
      ],
      "execution_count": null,
      "outputs": []
    },
    {
      "cell_type": "markdown",
      "metadata": {
        "id": "Dcy7hRw2uRSt"
      },
      "source": [
        "Adapun dalam fungsi juga mencari Euclidean distance dari setiap data kepada centroid yang sebelumnya telah ditemukan pada fungsi di atas. \n",
        "Untuk mencari Euclidean distance dari setiap data, menggunakan library Scipy yaitu vq (Vector Quantization) yang memiliki fungsi untuk mengelompokkan data menjadi group-group yang terdekat dengan centroid yang sebelumnya telah ditemukan. \n"
      ]
    },
    {
      "cell_type": "markdown",
      "metadata": {
        "id": "2zGfF3u1uTAX"
      },
      "source": [
        "### Mencari Silhouette Coefficient "
      ]
    },
    {
      "cell_type": "markdown",
      "metadata": {
        "id": "Maf44hI9uWLa"
      },
      "source": [
        "10.\tFungsi digunakan untuk menghitung Silhouette Coefficient dan melakukan visualisasi pada Silhouette Method. "
      ]
    },
    {
      "cell_type": "code",
      "metadata": {
        "id": "WtMoEBIuLcOJ"
      },
      "source": [
        "def silhouette_method(x, labels, cluster):\n",
        "    silhouette_avg = silhouette_score(x, labels)\n",
        "    if silhouette_avg > 0.4:\n",
        "        print(\"For n_clusters =\", cluster,\n",
        "              \"The average silhouette_score is :\", silhouette_avg)\n",
        "        fig, ax1 = plt.subplots(1, 1)\n",
        "\n",
        "        fig.set_size_inches(8, 5)\n",
        "\n",
        "        ax1.set_xlim([-0.1, 1])\n",
        "        ax1.set_ylim([0, len(x) + (cluster + 1) * 10])\n",
        "\n",
        "        sample_silhouette_values = silhouette_samples(x, labels)\n",
        "\n",
        "        y_lower = 10\n",
        "        for i in range(cluster):\n",
        "            ith_cluster_silhouette_values = \\\n",
        "                sample_silhouette_values[labels == i]\n",
        "\n",
        "            ith_cluster_silhouette_values.sort()\n",
        "\n",
        "            size_cluster_i = ith_cluster_silhouette_values.shape[0]\n",
        "            y_upper = y_lower + size_cluster_i\n",
        "\n",
        "            color = cm.nipy_spectral(float(i) / cluster)\n",
        "            ax1.fill_betweenx(np.arange(y_lower, y_upper),\n",
        "                                0, ith_cluster_silhouette_values,\n",
        "                                facecolor=color, edgecolor=color, alpha=0.7)\n",
        "            ax1.text(-0.05, y_lower + 0.5 * size_cluster_i, str(i))\n",
        "            y_lower = y_upper + 10  # 10 for the 0 samples\n",
        "\n",
        "        ax1.set_title(\"The silhouette plot for the various clusters.\")\n",
        "        ax1.set_xlabel(\"The silhouette coefficient values\")\n",
        "        ax1.set_ylabel(\"Cluster label\")\n",
        "        ax1.axvline(x=silhouette_avg, color=\"red\", linestyle=\"--\")\n",
        "\n",
        "    plt.show()"
      ],
      "execution_count": null,
      "outputs": []
    },
    {
      "cell_type": "markdown",
      "metadata": {
        "id": "6QE54-S6uYrN"
      },
      "source": [
        "### Fungsi Utama Hierarchical Clustering\n"
      ]
    },
    {
      "cell_type": "markdown",
      "metadata": {
        "id": "pSTv86fHucM9"
      },
      "source": [
        "11.\tFungsi digunakan untuk mengkalkulasi fungsi-fungsi di atas dan untuk melakukan agglomerative clustering pada data yang ada, sesuai dengan parameter yang telah diberikan untuk mempercepat clustering yaitu: \n",
        "1.\tK = jumlah kluster yang diinginkan\n",
        "2.\tLinkage = jenis agglomerative method yang ingin digunakan\n"
      ]
    },
    {
      "cell_type": "code",
      "metadata": {
        "id": "_SW2SU5NENEO"
      },
      "source": [
        "def hiearchical_clustering(k, linkage):\n",
        "    n_clusters = [k]\n",
        "    for cluster in n_clusters:\n",
        "        clusterer = AgglomerativeClustering(n_clusters = cluster,\n",
        "                                            linkage=linkage)\n",
        "        y_prediction = clusterer.fit_predict(x)\n",
        "        cluster_labels = clusterer.labels_\n",
        "\n",
        "        clf = find_centroids(x, y_prediction)\n",
        "\n",
        "        wss_bss(x, clf.centroids_)\n",
        "        silhouette_method(x, cluster_labels, cluster)\n",
        "    return\n"
      ],
      "execution_count": null,
      "outputs": []
    },
    {
      "cell_type": "markdown",
      "metadata": {
        "id": "uI8PnDDiudYk"
      },
      "source": [
        "## Clustering Agglomerative dengan Average Linkage"
      ]
    },
    {
      "cell_type": "markdown",
      "metadata": {
        "id": "nQVGKx10ul9K"
      },
      "source": [
        "### Menentukan Jumlah Cluster menggunakan Dendrogram"
      ]
    },
    {
      "cell_type": "markdown",
      "metadata": {
        "id": "VKnlkeuAuoOV"
      },
      "source": [
        "12.\tSalah satu cara untuk mengetahui berapa banyak cluster yang diperlukan yaitu dengan menggunakan Dendrogram. Untuk membuat dendogram, kita dapat menggunakan fungsi dari library scipy.cluster.hierarchy yaitu dendogram dan linkage dan matplotlib untuk melakukan visualisasi. "
      ]
    },
    {
      "cell_type": "code",
      "metadata": {
        "colab": {
          "base_uri": "https://localhost:8080/",
          "height": 614
        },
        "id": "dkZQ3B-w_QPg",
        "outputId": "cb6cbdb8-8f46-4e57-fac0-98c604346298"
      },
      "source": [
        "avg = linkage(x, 'average')\n",
        "\n",
        "plt.figure(figsize=(20, 10))\n",
        "plt.title('Average Linkage')\n",
        "dendrogram(\n",
        "    avg,\n",
        "    leaf_rotation=90.,        \n",
        ")\n",
        "\n",
        "plt.show()"
      ],
      "execution_count": null,
      "outputs": [
        {
          "output_type": "display_data",
          "data": {
            "image/png": "[encoded data removed]",
            "text/plain": [
              "<Figure size 1440x720 with 1 Axes>"
            ]
          },
          "metadata": {
            "needs_background": "light"
          }
        }
      ]
    },
    {
      "cell_type": "markdown",
      "metadata": {
        "id": "jU0gCwWLus-S"
      },
      "source": [
        "Dendrogram terdiri atas sumbu x yang berisi sample yang kita miliki dan sumbu y yang merepresentasikan jarak antara sample tersebut. <br><br>Dari dendrogram, dapat dilihat bahwa jumlah cluster yang optimal yaitu 2. "
      ]
    },
    {
      "cell_type": "markdown",
      "metadata": {
        "id": "Tc5DlxnSuyT9"
      },
      "source": [
        "### Menghitung Internal Measures"
      ]
    },
    {
      "cell_type": "markdown",
      "metadata": {
        "id": "jLNt2QAMu2yO"
      },
      "source": [
        "13.\tSetelah menentukan jumlah cluster, kemudian kita dapat melakukan perhitungan untuk menentukan centroids dari dua cluster, perhitungan WSS dan BSS, dan Silhouette Coefficient menggunakan fungsi yang sebelumnya telah dijelaskan di atas. \n",
        "Parameter yang digunakan yaitu 2 (sebagai jumlah cluster, didapat dari hasil dendogram di atas), dan ‘average’ sebagai jenis linkage. \n"
      ]
    },
    {
      "cell_type": "code",
      "metadata": {
        "colab": {
          "base_uri": "https://localhost:8080/",
          "height": 472
        },
        "id": "FHIemnHTG20I",
        "outputId": "cd45e44a-757c-4e3d-ce8d-2d1711f2cf9c"
      },
      "source": [
        "hiearchical_clustering(2, 'average')   "
      ],
      "execution_count": null,
      "outputs": [
        {
          "output_type": "stream",
          "name": "stdout",
          "text": [
            "Centroids:\n",
            "[[-121.62295562   37.84676055]\n",
            " [-117.94261659   33.87667651]]\n",
            "<class 'numpy.ndarray'>\n",
            "Within Cluster Sums of Squares:  26866.78932738695\n",
            "Between Cluster Sum of Squares:  150142.19095350453\n",
            "For n_clusters = 2 The average silhouette_score is : 0.7496267796978704\n"
          ]
        },
        {
          "output_type": "display_data",
          "data": {
            "image/png": "[encoded data removed]",
            "text/plain": [
              "<Figure size 576x360 with 1 Axes>"
            ]
          },
          "metadata": {
            "needs_background": "light"
          }
        }
      ]
    },
    {
      "cell_type": "markdown",
      "metadata": {
        "id": "zlCcq231u5HD"
      },
      "source": [
        "Didapatkan data berupa: \n",
        "1.\tCentroids yaitu: \n",
        "a.\tCluster 0 : [-121.62295562   37.84676055]\n",
        "b.\tCluster 1: [-117.94261659   33.87667651]\n",
        "2.\tPerhitungan WSS: 26866.78932738695\n",
        "3.\tPerhitungan BSS: 150142.19095350453\n",
        "4.\tSilhouette Score: 0.7496267796978704\n",
        "5.\tDari silhouette plot yang didapat, terlihat bahwa memang jumlah cluster = 2 adalah pilihan yang tepat, dikarenakan plotting antara cluster 0 dan 1 yang luasnya lumayan merata. \n"
      ]
    },
    {
      "cell_type": "markdown",
      "metadata": {
        "id": "IU3uumt2u7T3"
      },
      "source": [
        "### Visualisasi Agglomerative Clustering dengan Average Linkage"
      ]
    },
    {
      "cell_type": "markdown",
      "metadata": {
        "id": "6yaKNbJRu87T"
      },
      "source": [
        "14.\tMelakukan labeling sesuai dengan cluster yang sebelumnya telah dibuat. Sebelum itu, kita harus melakukan fitting dan prediksi pada dataset yang kita punya yaitu California House Pricing. "
      ]
    },
    {
      "cell_type": "code",
      "metadata": {
        "id": "4Dpd0eIzONez"
      },
      "source": [
        "agglom = AgglomerativeClustering(n_clusters = 2, linkage = 'average')\n",
        "y_agglom_avg = agglom.fit_predict(x)"
      ],
      "execution_count": null,
      "outputs": []
    },
    {
      "cell_type": "code",
      "metadata": {
        "colab": {
          "base_uri": "https://localhost:8080/"
        },
        "id": "c_AonKMZPIaR",
        "outputId": "e405e7b8-32fd-4801-85a1-80c73eb63fac"
      },
      "source": [
        "y_agglom_avg"
      ],
      "execution_count": null,
      "outputs": [
        {
          "output_type": "execute_result",
          "data": {
            "text/plain": [
              "array([0, 0, 0, ..., 0, 0, 0])"
            ]
          },
          "metadata": {},
          "execution_count": 23
        }
      ]
    },
    {
      "cell_type": "code",
      "metadata": {
        "colab": {
          "base_uri": "https://localhost:8080/"
        },
        "id": "kA3iOpEHPNkD",
        "outputId": "faf92565-9a7f-4e5f-be68-2539244840b0"
      },
      "source": [
        "uniqueValues = np.unique(y_agglom_avg)\n",
        "print('Unique Values : ',uniqueValues)"
      ],
      "execution_count": null,
      "outputs": [
        {
          "output_type": "stream",
          "name": "stdout",
          "text": [
            "Unique Values :  [0 1]\n"
          ]
        }
      ]
    },
    {
      "cell_type": "markdown",
      "metadata": {
        "id": "Ag_UhXaKvACe"
      },
      "source": [
        "15.\tSetelah menemukan label, kita dapat memasukkan label tersebut ke dataset yang sebelumnya kita miliki. "
      ]
    },
    {
      "cell_type": "code",
      "metadata": {
        "colab": {
          "base_uri": "https://localhost:8080/",
          "height": 362
        },
        "id": "Neyh8apDPDGi",
        "outputId": "fe3edff3-f8e2-4356-ed09-024c52cfd759"
      },
      "source": [
        "df['Cluster_AVG'] = y_agglom_avg\n",
        "df.sample(10)"
      ],
      "execution_count": null,
      "outputs": [
        {
          "output_type": "execute_result",
          "data": {
            "text/html": [
              "<div>\n",
              "<style scoped>\n",
              "    .dataframe tbody tr th:only-of-type {\n",
              "        vertical-align: middle;\n",
              "    }\n",
              "\n",
              "    .dataframe tbody tr th {\n",
              "        vertical-align: top;\n",
              "    }\n",
              "\n",
              "    .dataframe thead th {\n",
              "        text-align: right;\n",
              "    }\n",
              "</style>\n",
              "<table border=\"1\" class=\"dataframe\">\n",
              "  <thead>\n",
              "    <tr style=\"text-align: right;\">\n",
              "      <th></th>\n",
              "      <th>longitude</th>\n",
              "      <th>latitude</th>\n",
              "      <th>housing_median_age</th>\n",
              "      <th>total_rooms</th>\n",
              "      <th>total_bedrooms</th>\n",
              "      <th>population</th>\n",
              "      <th>households</th>\n",
              "      <th>median_income</th>\n",
              "      <th>median_house_value</th>\n",
              "      <th>ocean_proximity</th>\n",
              "      <th>Cluster_AVG</th>\n",
              "    </tr>\n",
              "  </thead>\n",
              "  <tbody>\n",
              "    <tr>\n",
              "      <th>18522</th>\n",
              "      <td>-122.05</td>\n",
              "      <td>36.97</td>\n",
              "      <td>16.0</td>\n",
              "      <td>3363.0</td>\n",
              "      <td>611.0</td>\n",
              "      <td>1603.0</td>\n",
              "      <td>556.0</td>\n",
              "      <td>4.2542</td>\n",
              "      <td>294100.0</td>\n",
              "      <td>NEAR OCEAN</td>\n",
              "      <td>0</td>\n",
              "    </tr>\n",
              "    <tr>\n",
              "      <th>17683</th>\n",
              "      <td>-121.86</td>\n",
              "      <td>37.29</td>\n",
              "      <td>14.0</td>\n",
              "      <td>6160.0</td>\n",
              "      <td>1222.0</td>\n",
              "      <td>2472.0</td>\n",
              "      <td>1204.0</td>\n",
              "      <td>4.1444</td>\n",
              "      <td>178400.0</td>\n",
              "      <td>&lt;1H OCEAN</td>\n",
              "      <td>0</td>\n",
              "    </tr>\n",
              "    <tr>\n",
              "      <th>4214</th>\n",
              "      <td>-118.27</td>\n",
              "      <td>34.13</td>\n",
              "      <td>47.0</td>\n",
              "      <td>1375.0</td>\n",
              "      <td>359.0</td>\n",
              "      <td>1512.0</td>\n",
              "      <td>418.0</td>\n",
              "      <td>2.1071</td>\n",
              "      <td>208900.0</td>\n",
              "      <td>&lt;1H OCEAN</td>\n",
              "      <td>1</td>\n",
              "    </tr>\n",
              "    <tr>\n",
              "      <th>5974</th>\n",
              "      <td>-117.76</td>\n",
              "      <td>34.11</td>\n",
              "      <td>22.0</td>\n",
              "      <td>4935.0</td>\n",
              "      <td>954.0</td>\n",
              "      <td>2874.0</td>\n",
              "      <td>938.0</td>\n",
              "      <td>3.9825</td>\n",
              "      <td>180500.0</td>\n",
              "      <td>INLAND</td>\n",
              "      <td>1</td>\n",
              "    </tr>\n",
              "    <tr>\n",
              "      <th>8809</th>\n",
              "      <td>-118.41</td>\n",
              "      <td>33.75</td>\n",
              "      <td>4.0</td>\n",
              "      <td>311.0</td>\n",
              "      <td>51.0</td>\n",
              "      <td>128.0</td>\n",
              "      <td>46.0</td>\n",
              "      <td>9.8091</td>\n",
              "      <td>500001.0</td>\n",
              "      <td>NEAR OCEAN</td>\n",
              "      <td>1</td>\n",
              "    </tr>\n",
              "    <tr>\n",
              "      <th>4348</th>\n",
              "      <td>-118.36</td>\n",
              "      <td>34.11</td>\n",
              "      <td>35.0</td>\n",
              "      <td>3946.0</td>\n",
              "      <td>695.0</td>\n",
              "      <td>1361.0</td>\n",
              "      <td>620.0</td>\n",
              "      <td>6.5195</td>\n",
              "      <td>500001.0</td>\n",
              "      <td>&lt;1H OCEAN</td>\n",
              "      <td>1</td>\n",
              "    </tr>\n",
              "    <tr>\n",
              "      <th>6266</th>\n",
              "      <td>-117.94</td>\n",
              "      <td>34.04</td>\n",
              "      <td>36.0</td>\n",
              "      <td>1431.0</td>\n",
              "      <td>354.0</td>\n",
              "      <td>1367.0</td>\n",
              "      <td>334.0</td>\n",
              "      <td>3.5592</td>\n",
              "      <td>160200.0</td>\n",
              "      <td>&lt;1H OCEAN</td>\n",
              "      <td>1</td>\n",
              "    </tr>\n",
              "    <tr>\n",
              "      <th>15569</th>\n",
              "      <td>-116.93</td>\n",
              "      <td>33.06</td>\n",
              "      <td>16.0</td>\n",
              "      <td>3490.0</td>\n",
              "      <td>545.0</td>\n",
              "      <td>1628.0</td>\n",
              "      <td>535.0</td>\n",
              "      <td>4.8836</td>\n",
              "      <td>239900.0</td>\n",
              "      <td>&lt;1H OCEAN</td>\n",
              "      <td>1</td>\n",
              "    </tr>\n",
              "    <tr>\n",
              "      <th>6898</th>\n",
              "      <td>-118.13</td>\n",
              "      <td>34.04</td>\n",
              "      <td>36.0</td>\n",
              "      <td>1938.0</td>\n",
              "      <td>364.0</td>\n",
              "      <td>1118.0</td>\n",
              "      <td>374.0</td>\n",
              "      <td>3.5833</td>\n",
              "      <td>227300.0</td>\n",
              "      <td>&lt;1H OCEAN</td>\n",
              "      <td>1</td>\n",
              "    </tr>\n",
              "    <tr>\n",
              "      <th>2128</th>\n",
              "      <td>-119.72</td>\n",
              "      <td>36.80</td>\n",
              "      <td>16.0</td>\n",
              "      <td>2396.0</td>\n",
              "      <td>526.0</td>\n",
              "      <td>1338.0</td>\n",
              "      <td>518.0</td>\n",
              "      <td>2.1653</td>\n",
              "      <td>78800.0</td>\n",
              "      <td>INLAND</td>\n",
              "      <td>0</td>\n",
              "    </tr>\n",
              "  </tbody>\n",
              "</table>\n",
              "</div>"
            ],
            "text/plain": [
              "       longitude  latitude  ...  ocean_proximity  Cluster_AVG\n",
              "18522    -122.05     36.97  ...       NEAR OCEAN            0\n",
              "17683    -121.86     37.29  ...        <1H OCEAN            0\n",
              "4214     -118.27     34.13  ...        <1H OCEAN            1\n",
              "5974     -117.76     34.11  ...           INLAND            1\n",
              "8809     -118.41     33.75  ...       NEAR OCEAN            1\n",
              "4348     -118.36     34.11  ...        <1H OCEAN            1\n",
              "6266     -117.94     34.04  ...        <1H OCEAN            1\n",
              "15569    -116.93     33.06  ...        <1H OCEAN            1\n",
              "6898     -118.13     34.04  ...        <1H OCEAN            1\n",
              "2128     -119.72     36.80  ...           INLAND            0\n",
              "\n",
              "[10 rows x 11 columns]"
            ]
          },
          "metadata": {},
          "execution_count": 26
        }
      ]
    },
    {
      "cell_type": "markdown",
      "metadata": {
        "id": "SJoE6JS2vBDn"
      },
      "source": [
        "Di atas yaitu contoh sampling yang dilakukan pada data untuk melihat hasil dari clustering. "
      ]
    },
    {
      "cell_type": "markdown",
      "metadata": {
        "id": "buBNby6EvDIe"
      },
      "source": [
        "16.\tUntuk melakukan visualisasi, kita dapat menggunakan scatterplot dari library matplotlib. "
      ]
    },
    {
      "cell_type": "code",
      "metadata": {
        "colab": {
          "base_uri": "https://localhost:8080/",
          "height": 265
        },
        "id": "FRJlA7MjPLhm",
        "outputId": "56610b22-6228-4723-a997-7ba78a059d02"
      },
      "source": [
        "plt.scatter(x[:, 0], x[:, 1], c=y_agglom_avg, s=5, cmap='viridis')\n",
        "\n",
        "clf = NearestCentroid()\n",
        "clf.fit(x, y_agglom_avg)\n",
        "centers = clf.centroids_\n",
        "plt.scatter(centers[:, 0], centers[:, 1], c='red', s=50, alpha=1);"
      ],
      "execution_count": null,
      "outputs": [
        {
          "output_type": "display_data",
          "data": {
            "image/png": "[encoded data removed]",
            "text/plain": [
              "<Figure size 432x288 with 1 Axes>"
            ]
          },
          "metadata": {
            "needs_background": "light"
          }
        }
      ]
    },
    {
      "cell_type": "markdown",
      "metadata": {
        "id": "x_Tsq-R2vJSA"
      },
      "source": [
        "## Clustering Agglomerative dengan Complete Linkage"
      ]
    },
    {
      "cell_type": "markdown",
      "metadata": {
        "id": "W4x_T0k4vOkY"
      },
      "source": [
        "### Menentukan Jumlah Cluster menggunakan Dendrogram"
      ]
    },
    {
      "cell_type": "markdown",
      "metadata": {
        "id": "qrLEFHqYvP5M"
      },
      "source": [
        "17.\tSama seperti pada average linkage, kita menentukan jumlah cluster menggunakan Dendogram. Adapun method yang kita gunakan yaitu complete linkage. "
      ]
    },
    {
      "cell_type": "code",
      "metadata": {
        "colab": {
          "base_uri": "https://localhost:8080/",
          "height": 614
        },
        "id": "SI9zG2EYQNMr",
        "outputId": "fac47d59-b86f-4942-e61d-3e42ba49a04b"
      },
      "source": [
        "# generate the linkage matrix\n",
        "complete = linkage(x, 'complete')\n",
        "\n",
        "plt.figure(figsize=(20, 10))\n",
        "plt.title('Complete Linkage')\n",
        "dendrogram(\n",
        "    complete,\n",
        "    leaf_rotation=90.,        \n",
        ")\n",
        "\n",
        "plt.show()"
      ],
      "execution_count": null,
      "outputs": [
        {
          "output_type": "display_data",
          "data": {
            "image/png": "[encoded data removed]",
            "text/plain": [
              "<Figure size 1440x720 with 1 Axes>"
            ]
          },
          "metadata": {
            "needs_background": "light"
          }
        }
      ]
    },
    {
      "cell_type": "markdown",
      "metadata": {
        "id": "i8Jx9vt0vRsh"
      },
      "source": [
        "Dari dendrogram, dapat dilihat bahwa jumlah cluster yang optimal yaitu 2. "
      ]
    },
    {
      "cell_type": "markdown",
      "metadata": {
        "id": "pGg4UEaNvS6k"
      },
      "source": [
        "### Menghitung Internal Measures"
      ]
    },
    {
      "cell_type": "markdown",
      "metadata": {
        "id": "qaWDc-dyvUZb"
      },
      "source": [
        "18.\tSetelah menentukan jumlah cluster, kemudian kita dapat melakukan perhitungan untuk menentukan centroids dari dua cluster, perhitungan WSS dan BSS, dan Silhouette Coefficient menggunakan fungsi yang sebelumnya telah dijelaskan di atas dan seperti metode average linkage di atas. \n",
        "Parameter yang digunakan yaitu 2 (jumlah cluster optimal), dan ‘complete’ sebagai method linkage yang akan digunakan.  \n"
      ]
    },
    {
      "cell_type": "code",
      "metadata": {
        "colab": {
          "base_uri": "https://localhost:8080/",
          "height": 472
        },
        "id": "Tu3jOO78Qh4j",
        "outputId": "8b06338b-bd46-4c3c-f9f6-2f70812d8bd5"
      },
      "source": [
        "hiearchical_clustering(2, 'complete')   "
      ],
      "execution_count": null,
      "outputs": [
        {
          "output_type": "stream",
          "name": "stdout",
          "text": [
            "Centroids:\n",
            "[[-118.17806952   34.1429973 ]\n",
            " [-121.91079792   38.13651982]]\n",
            "<class 'numpy.ndarray'>\n",
            "Within Cluster Sums of Squares:  27776.750234218624\n",
            "Between Cluster Sum of Squares:  149232.23004667283\n",
            "For n_clusters = 2 The average silhouette_score is : 0.7243135511728369\n"
          ]
        },
        {
          "output_type": "display_data",
          "data": {
            "image/png": "[encoded data removed]",
            "text/plain": [
              "<Figure size 576x360 with 1 Axes>"
            ]
          },
          "metadata": {
            "needs_background": "light"
          }
        }
      ]
    },
    {
      "cell_type": "markdown",
      "metadata": {
        "id": "53br7SI6vXHi"
      },
      "source": [
        "Didapatkan data berupa: \n",
        "1.\tCentroids yaitu: \n",
        "a.\tCluster 0 : [-118.17806952   34.1429973 ]\n",
        "b.\tCluster 1: [-121.91079792   38.13651982]\n",
        "2.\tPerhitungan WSS: 27776.750234218624\n",
        "3.\tPerhitungan BSS: 149232.23004667283\n",
        "4.\tSilhouette Score: 0.7243135511728369\n",
        "5.\tDari silhouette plot yang didapat, terlihat bahwa memang jumlah cluster yang optimal adalah 2 dikarenakan plotting antara cluster 0 dan 1 yang luasnya lumayan merata. \n"
      ]
    },
    {
      "cell_type": "markdown",
      "metadata": {
        "id": "VgTVQHygvY7E"
      },
      "source": [
        "### Visualisasi Agglomerative Clustering dengan Complete Linkage"
      ]
    },
    {
      "cell_type": "markdown",
      "metadata": {
        "id": "dq890Iz5vaTI"
      },
      "source": [
        "19.\tMelakukan labeling sesuai dengan cluster yang sebelumnya telah dibuat. Sebelum itu, kita harus melakukan fitting dan prediksi pada dataset yang kita punya yaitu California House Pricing. "
      ]
    },
    {
      "cell_type": "code",
      "metadata": {
        "id": "xjVzdcfPUbFt"
      },
      "source": [
        "agglom = AgglomerativeClustering(n_clusters = 2, linkage = 'complete')\n",
        "y_agglom_complete = agglom.fit_predict(x)"
      ],
      "execution_count": null,
      "outputs": []
    },
    {
      "cell_type": "code",
      "metadata": {
        "colab": {
          "base_uri": "https://localhost:8080/"
        },
        "id": "o7le-x75UsJT",
        "outputId": "53639ddb-9a70-42e3-a219-8b45108149f1"
      },
      "source": [
        "y_agglom_complete"
      ],
      "execution_count": null,
      "outputs": [
        {
          "output_type": "execute_result",
          "data": {
            "text/plain": [
              "array([1, 1, 1, ..., 1, 1, 1])"
            ]
          },
          "metadata": {},
          "execution_count": 31
        }
      ]
    },
    {
      "cell_type": "code",
      "metadata": {
        "colab": {
          "base_uri": "https://localhost:8080/"
        },
        "id": "yZEfio2IVRfz",
        "outputId": "517f356e-1d9c-4734-bc55-34bcf056d66d"
      },
      "source": [
        "uniqueValues = np.unique(y_agglom_complete)\n",
        "print('Unique Values : ',uniqueValues)"
      ],
      "execution_count": null,
      "outputs": [
        {
          "output_type": "stream",
          "name": "stdout",
          "text": [
            "Unique Values :  [0 1]\n"
          ]
        }
      ]
    },
    {
      "cell_type": "markdown",
      "metadata": {
        "id": "fsQALAIevbyI"
      },
      "source": [
        "20.\tSetelah menemukan label, kita dapat memasukkan label tersebut ke dataset yang sebelumnya kita miliki. "
      ]
    },
    {
      "cell_type": "code",
      "metadata": {
        "colab": {
          "base_uri": "https://localhost:8080/",
          "height": 362
        },
        "id": "ZV-aiJC8VTNs",
        "outputId": "f7083388-c369-45d2-fd3c-60efd0823b00"
      },
      "source": [
        "df['Cluster_Complete'] = y_agglom_complete\n",
        "df.sample(10)"
      ],
      "execution_count": null,
      "outputs": [
        {
          "output_type": "execute_result",
          "data": {
            "text/html": [
              "<div>\n",
              "<style scoped>\n",
              "    .dataframe tbody tr th:only-of-type {\n",
              "        vertical-align: middle;\n",
              "    }\n",
              "\n",
              "    .dataframe tbody tr th {\n",
              "        vertical-align: top;\n",
              "    }\n",
              "\n",
              "    .dataframe thead th {\n",
              "        text-align: right;\n",
              "    }\n",
              "</style>\n",
              "<table border=\"1\" class=\"dataframe\">\n",
              "  <thead>\n",
              "    <tr style=\"text-align: right;\">\n",
              "      <th></th>\n",
              "      <th>longitude</th>\n",
              "      <th>latitude</th>\n",
              "      <th>housing_median_age</th>\n",
              "      <th>total_rooms</th>\n",
              "      <th>total_bedrooms</th>\n",
              "      <th>population</th>\n",
              "      <th>households</th>\n",
              "      <th>median_income</th>\n",
              "      <th>median_house_value</th>\n",
              "      <th>ocean_proximity</th>\n",
              "      <th>Cluster_AVG</th>\n",
              "      <th>Cluster_Complete</th>\n",
              "    </tr>\n",
              "  </thead>\n",
              "  <tbody>\n",
              "    <tr>\n",
              "      <th>2712</th>\n",
              "      <td>-115.64</td>\n",
              "      <td>32.75</td>\n",
              "      <td>19.0</td>\n",
              "      <td>377.0</td>\n",
              "      <td>69.0</td>\n",
              "      <td>198.0</td>\n",
              "      <td>55.0</td>\n",
              "      <td>1.6250</td>\n",
              "      <td>112500.0</td>\n",
              "      <td>INLAND</td>\n",
              "      <td>1</td>\n",
              "      <td>0</td>\n",
              "    </tr>\n",
              "    <tr>\n",
              "      <th>4817</th>\n",
              "      <td>-118.29</td>\n",
              "      <td>34.04</td>\n",
              "      <td>48.0</td>\n",
              "      <td>1353.0</td>\n",
              "      <td>488.0</td>\n",
              "      <td>1945.0</td>\n",
              "      <td>487.0</td>\n",
              "      <td>2.4359</td>\n",
              "      <td>123700.0</td>\n",
              "      <td>&lt;1H OCEAN</td>\n",
              "      <td>1</td>\n",
              "      <td>0</td>\n",
              "    </tr>\n",
              "    <tr>\n",
              "      <th>18803</th>\n",
              "      <td>-122.06</td>\n",
              "      <td>40.55</td>\n",
              "      <td>17.0</td>\n",
              "      <td>3057.0</td>\n",
              "      <td>577.0</td>\n",
              "      <td>1497.0</td>\n",
              "      <td>556.0</td>\n",
              "      <td>3.5189</td>\n",
              "      <td>101000.0</td>\n",
              "      <td>INLAND</td>\n",
              "      <td>0</td>\n",
              "      <td>1</td>\n",
              "    </tr>\n",
              "    <tr>\n",
              "      <th>13762</th>\n",
              "      <td>-117.09</td>\n",
              "      <td>34.07</td>\n",
              "      <td>24.0</td>\n",
              "      <td>6260.0</td>\n",
              "      <td>1271.0</td>\n",
              "      <td>3132.0</td>\n",
              "      <td>1189.0</td>\n",
              "      <td>2.5156</td>\n",
              "      <td>103000.0</td>\n",
              "      <td>INLAND</td>\n",
              "      <td>1</td>\n",
              "      <td>0</td>\n",
              "    </tr>\n",
              "    <tr>\n",
              "      <th>12623</th>\n",
              "      <td>-121.53</td>\n",
              "      <td>38.48</td>\n",
              "      <td>5.0</td>\n",
              "      <td>27870.0</td>\n",
              "      <td>5027.0</td>\n",
              "      <td>11935.0</td>\n",
              "      <td>4855.0</td>\n",
              "      <td>4.8811</td>\n",
              "      <td>212200.0</td>\n",
              "      <td>INLAND</td>\n",
              "      <td>0</td>\n",
              "      <td>1</td>\n",
              "    </tr>\n",
              "    <tr>\n",
              "      <th>7016</th>\n",
              "      <td>-118.08</td>\n",
              "      <td>33.97</td>\n",
              "      <td>36.0</td>\n",
              "      <td>1678.0</td>\n",
              "      <td>323.0</td>\n",
              "      <td>1380.0</td>\n",
              "      <td>352.0</td>\n",
              "      <td>3.5481</td>\n",
              "      <td>163300.0</td>\n",
              "      <td>&lt;1H OCEAN</td>\n",
              "      <td>1</td>\n",
              "      <td>0</td>\n",
              "    </tr>\n",
              "    <tr>\n",
              "      <th>4008</th>\n",
              "      <td>-118.62</td>\n",
              "      <td>34.15</td>\n",
              "      <td>26.0</td>\n",
              "      <td>5661.0</td>\n",
              "      <td>791.0</td>\n",
              "      <td>2493.0</td>\n",
              "      <td>780.0</td>\n",
              "      <td>7.9814</td>\n",
              "      <td>409900.0</td>\n",
              "      <td>&lt;1H OCEAN</td>\n",
              "      <td>1</td>\n",
              "      <td>0</td>\n",
              "    </tr>\n",
              "    <tr>\n",
              "      <th>1445</th>\n",
              "      <td>-121.99</td>\n",
              "      <td>37.97</td>\n",
              "      <td>28.0</td>\n",
              "      <td>2839.0</td>\n",
              "      <td>428.0</td>\n",
              "      <td>1372.0</td>\n",
              "      <td>443.0</td>\n",
              "      <td>6.2135</td>\n",
              "      <td>217200.0</td>\n",
              "      <td>INLAND</td>\n",
              "      <td>0</td>\n",
              "      <td>1</td>\n",
              "    </tr>\n",
              "    <tr>\n",
              "      <th>5175</th>\n",
              "      <td>-118.27</td>\n",
              "      <td>33.95</td>\n",
              "      <td>34.0</td>\n",
              "      <td>1261.0</td>\n",
              "      <td>315.0</td>\n",
              "      <td>1027.0</td>\n",
              "      <td>303.0</td>\n",
              "      <td>2.2946</td>\n",
              "      <td>88800.0</td>\n",
              "      <td>&lt;1H OCEAN</td>\n",
              "      <td>1</td>\n",
              "      <td>0</td>\n",
              "    </tr>\n",
              "    <tr>\n",
              "      <th>1688</th>\n",
              "      <td>-122.27</td>\n",
              "      <td>37.98</td>\n",
              "      <td>23.0</td>\n",
              "      <td>3455.0</td>\n",
              "      <td>479.0</td>\n",
              "      <td>1375.0</td>\n",
              "      <td>474.0</td>\n",
              "      <td>6.0289</td>\n",
              "      <td>218600.0</td>\n",
              "      <td>NEAR BAY</td>\n",
              "      <td>0</td>\n",
              "      <td>1</td>\n",
              "    </tr>\n",
              "  </tbody>\n",
              "</table>\n",
              "</div>"
            ],
            "text/plain": [
              "       longitude  latitude  ...  Cluster_AVG  Cluster_Complete\n",
              "2712     -115.64     32.75  ...            1                 0\n",
              "4817     -118.29     34.04  ...            1                 0\n",
              "18803    -122.06     40.55  ...            0                 1\n",
              "13762    -117.09     34.07  ...            1                 0\n",
              "12623    -121.53     38.48  ...            0                 1\n",
              "7016     -118.08     33.97  ...            1                 0\n",
              "4008     -118.62     34.15  ...            1                 0\n",
              "1445     -121.99     37.97  ...            0                 1\n",
              "5175     -118.27     33.95  ...            1                 0\n",
              "1688     -122.27     37.98  ...            0                 1\n",
              "\n",
              "[10 rows x 12 columns]"
            ]
          },
          "metadata": {},
          "execution_count": 33
        }
      ]
    },
    {
      "cell_type": "markdown",
      "metadata": {
        "id": "_k4R6aEWveEs"
      },
      "source": [
        "21.\tUntuk melakukan visualisasi, kita dapat menggunakan scatterplot dari library matplotlib. "
      ]
    },
    {
      "cell_type": "code",
      "metadata": {
        "colab": {
          "base_uri": "https://localhost:8080/",
          "height": 265
        },
        "id": "oAu-pwpmVXVS",
        "outputId": "47408455-c401-4d25-deb7-02225a402ce6"
      },
      "source": [
        "plt.scatter(x[:, 0], x[:, 1], c=y_agglom_complete, s=5, cmap='viridis')\n",
        "\n",
        "clf = NearestCentroid()\n",
        "clf.fit(x, y_agglom_complete)\n",
        "centers = clf.centroids_\n",
        "plt.scatter(centers[:, 0], centers[:, 1], c='red', s=50, alpha=1);"
      ],
      "execution_count": null,
      "outputs": [
        {
          "output_type": "display_data",
          "data": {
            "image/png": "[encoded data removed]",
            "text/plain": [
              "<Figure size 432x288 with 1 Axes>"
            ]
          },
          "metadata": {
            "needs_background": "light"
          }
        }
      ]
    },
    {
      "cell_type": "markdown",
      "metadata": {
        "id": "aMYh9INqvhez"
      },
      "source": [
        "## Clustering Agglomerative dengan Ward Linkage"
      ]
    },
    {
      "cell_type": "markdown",
      "metadata": {
        "id": "exPf-hzfvjTm"
      },
      "source": [
        "### Menentukan Jumlah Cluster menggunakan Dendrogram"
      ]
    },
    {
      "cell_type": "markdown",
      "metadata": {
        "id": "QeziCYGcvlbb"
      },
      "source": [
        "22.\tMethod yang digunakan untuk membuat dendrogram yaitu ward linkage. "
      ]
    },
    {
      "cell_type": "code",
      "metadata": {
        "colab": {
          "base_uri": "https://localhost:8080/",
          "height": 614
        },
        "id": "x6uR7vqbVe33",
        "outputId": "358087c9-ca9c-47d8-9cf8-7640022a46d5"
      },
      "source": [
        "# generate the linkage matrix\n",
        "ward = linkage(x, 'ward')\n",
        "\n",
        "plt.figure(figsize=(20, 10))\n",
        "plt.title('Ward Linkage')\n",
        "dendrogram(\n",
        "    ward,\n",
        "    leaf_rotation=90.,         \n",
        ")\n",
        "\n",
        "plt.show()"
      ],
      "execution_count": null,
      "outputs": [
        {
          "output_type": "display_data",
          "data": {
            "image/png": "[encoded data removed]",
            "text/plain": [
              "<Figure size 1440x720 with 1 Axes>"
            ]
          },
          "metadata": {
            "needs_background": "light"
          }
        }
      ]
    },
    {
      "cell_type": "markdown",
      "metadata": {
        "id": "MMnY9XDavrI3"
      },
      "source": [
        "### Menghitung Internal Measures"
      ]
    },
    {
      "cell_type": "markdown",
      "metadata": {
        "id": "lC4lHBLWvtir"
      },
      "source": [
        "23.\tSetelah menentukan jumlah cluster, kemudian kita dapat melakukan perhitungan untuk menentukan centroids dari dua cluster, perhitungan WSS dan BSS, dan Silhouette Coefficient menggunakan fungsi yang sebelumnya telah dijelaskan di atas dan seperti metode agglomerative lainnya di atas. \n",
        "Parameter yang digunakan yaitu 2 (jumlah cluster optimal), dan ‘ward’ sebagai method linkage yang akan digunakan.  \n"
      ]
    },
    {
      "cell_type": "code",
      "metadata": {
        "colab": {
          "base_uri": "https://localhost:8080/",
          "height": 472
        },
        "id": "P4Hkhkx6Xw5P",
        "outputId": "59f07aec-0f0f-4dac-be91-679954a453f5"
      },
      "source": [
        "hiearchical_clustering(2, 'ward')   "
      ],
      "execution_count": null,
      "outputs": [
        {
          "output_type": "stream",
          "name": "stdout",
          "text": [
            "Centroids:\n",
            "[[-118.12417712   34.10910502]\n",
            " [-121.91043147   38.09764467]]\n",
            "<class 'numpy.ndarray'>\n",
            "Within Cluster Sums of Squares:  27430.97509774672\n",
            "Between Cluster Sum of Squares:  149578.00518314476\n",
            "For n_clusters = 2 The average silhouette_score is : 0.7398926707558655\n"
          ]
        },
        {
          "output_type": "display_data",
          "data": {
            "image/png": "[encoded data removed]",
            "text/plain": [
              "<Figure size 576x360 with 1 Axes>"
            ]
          },
          "metadata": {
            "needs_background": "light"
          }
        }
      ]
    },
    {
      "cell_type": "markdown",
      "metadata": {
        "id": "jTPX-CDevvmJ"
      },
      "source": [
        "Didapatkan data berupa: \n",
        "1.\tCentroids yaitu: \n",
        "a.\tCluster 0 : [-118.12417712   34.10910502]\n",
        "b.\tCluster 1: [-121.91043147   38.09764467]\n",
        "2.\tPerhitungan WSS: 27430.97509774672\n",
        "3.\tPerhitungan BSS: 149578.00518314476\n",
        "4.\tSilhouette Score: 0.7398926707558655\n",
        "5.\tDari silhouette plot yang didapat, terlihat bahwa memang jumlah cluster yang optimal adalah 2 dikarenakan plotting antara cluster 0 dan 1 yang luasnya lumayan merata. \n"
      ]
    },
    {
      "cell_type": "markdown",
      "metadata": {
        "id": "DZNXLrGXvxvc"
      },
      "source": [
        "### Visualisasi Agglomerative Clustering dengan Complete Linkage"
      ]
    },
    {
      "cell_type": "markdown",
      "metadata": {
        "id": "P-fURe9EvzkY"
      },
      "source": [
        "24.\tMelakukan labeling sesuai dengan cluster yang sebelumnya telah dibuat. Sebelum itu, kita harus melakukan fitting dan prediksi pada dataset yang kita punya yaitu California House Pricing. "
      ]
    },
    {
      "cell_type": "code",
      "metadata": {
        "id": "msVrT2UyX0sx"
      },
      "source": [
        "agglom = AgglomerativeClustering(n_clusters = 2, linkage = 'ward')\n",
        "y_agglom_ward = agglom.fit_predict(x)"
      ],
      "execution_count": null,
      "outputs": []
    },
    {
      "cell_type": "code",
      "metadata": {
        "colab": {
          "base_uri": "https://localhost:8080/"
        },
        "id": "PYYwEulSbsU7",
        "outputId": "f60427bc-bc43-41f1-da05-8c4e16201c34"
      },
      "source": [
        "y_agglom_ward"
      ],
      "execution_count": null,
      "outputs": [
        {
          "output_type": "execute_result",
          "data": {
            "text/plain": [
              "array([1, 1, 1, ..., 1, 1, 1])"
            ]
          },
          "metadata": {},
          "execution_count": 38
        }
      ]
    },
    {
      "cell_type": "code",
      "metadata": {
        "colab": {
          "base_uri": "https://localhost:8080/"
        },
        "id": "8kMcXPRtbwG6",
        "outputId": "82acd71c-58d3-4bc3-ae05-f452dc6a2a6d"
      },
      "source": [
        "uniqueValues = np.unique(y_agglom_ward)\n",
        "print('Unique Values : ',uniqueValues)"
      ],
      "execution_count": null,
      "outputs": [
        {
          "output_type": "stream",
          "name": "stdout",
          "text": [
            "Unique Values :  [0 1]\n"
          ]
        }
      ]
    },
    {
      "cell_type": "markdown",
      "metadata": {
        "id": "ii4PL7dCv1RT"
      },
      "source": [
        "25.\tSetelah menemukan label, kita dapat memasukkan label tersebut ke dataset yang sebelumnya kita miliki. "
      ]
    },
    {
      "cell_type": "code",
      "metadata": {
        "colab": {
          "base_uri": "https://localhost:8080/",
          "height": 382
        },
        "id": "kP-G2S-cb0In",
        "outputId": "c0e0ec59-3b16-476a-fc63-615411d6e068"
      },
      "source": [
        "df['Cluster_Ward'] = y_agglom_ward\n",
        "df.sample(10)"
      ],
      "execution_count": null,
      "outputs": [
        {
          "output_type": "execute_result",
          "data": {
            "text/html": [
              "<div>\n",
              "<style scoped>\n",
              "    .dataframe tbody tr th:only-of-type {\n",
              "        vertical-align: middle;\n",
              "    }\n",
              "\n",
              "    .dataframe tbody tr th {\n",
              "        vertical-align: top;\n",
              "    }\n",
              "\n",
              "    .dataframe thead th {\n",
              "        text-align: right;\n",
              "    }\n",
              "</style>\n",
              "<table border=\"1\" class=\"dataframe\">\n",
              "  <thead>\n",
              "    <tr style=\"text-align: right;\">\n",
              "      <th></th>\n",
              "      <th>longitude</th>\n",
              "      <th>latitude</th>\n",
              "      <th>housing_median_age</th>\n",
              "      <th>total_rooms</th>\n",
              "      <th>total_bedrooms</th>\n",
              "      <th>population</th>\n",
              "      <th>households</th>\n",
              "      <th>median_income</th>\n",
              "      <th>median_house_value</th>\n",
              "      <th>ocean_proximity</th>\n",
              "      <th>Cluster_AVG</th>\n",
              "      <th>Cluster_Complete</th>\n",
              "      <th>Cluster_Ward</th>\n",
              "    </tr>\n",
              "  </thead>\n",
              "  <tbody>\n",
              "    <tr>\n",
              "      <th>5114</th>\n",
              "      <td>-118.30</td>\n",
              "      <td>33.96</td>\n",
              "      <td>43.0</td>\n",
              "      <td>2009.0</td>\n",
              "      <td>442.0</td>\n",
              "      <td>1095.0</td>\n",
              "      <td>439.0</td>\n",
              "      <td>2.8299</td>\n",
              "      <td>109500.0</td>\n",
              "      <td>&lt;1H OCEAN</td>\n",
              "      <td>1</td>\n",
              "      <td>0</td>\n",
              "      <td>0</td>\n",
              "    </tr>\n",
              "    <tr>\n",
              "      <th>666</th>\n",
              "      <td>-122.14</td>\n",
              "      <td>37.69</td>\n",
              "      <td>38.0</td>\n",
              "      <td>1571.0</td>\n",
              "      <td>317.0</td>\n",
              "      <td>874.0</td>\n",
              "      <td>301.0</td>\n",
              "      <td>4.4659</td>\n",
              "      <td>189100.0</td>\n",
              "      <td>NEAR BAY</td>\n",
              "      <td>0</td>\n",
              "      <td>1</td>\n",
              "      <td>1</td>\n",
              "    </tr>\n",
              "    <tr>\n",
              "      <th>6885</th>\n",
              "      <td>-118.09</td>\n",
              "      <td>34.06</td>\n",
              "      <td>31.0</td>\n",
              "      <td>1146.0</td>\n",
              "      <td>289.0</td>\n",
              "      <td>1163.0</td>\n",
              "      <td>258.0</td>\n",
              "      <td>2.2083</td>\n",
              "      <td>185600.0</td>\n",
              "      <td>&lt;1H OCEAN</td>\n",
              "      <td>1</td>\n",
              "      <td>0</td>\n",
              "      <td>0</td>\n",
              "    </tr>\n",
              "    <tr>\n",
              "      <th>20325</th>\n",
              "      <td>-119.04</td>\n",
              "      <td>34.28</td>\n",
              "      <td>21.0</td>\n",
              "      <td>1856.0</td>\n",
              "      <td>276.0</td>\n",
              "      <td>863.0</td>\n",
              "      <td>255.0</td>\n",
              "      <td>4.5833</td>\n",
              "      <td>500001.0</td>\n",
              "      <td>&lt;1H OCEAN</td>\n",
              "      <td>1</td>\n",
              "      <td>0</td>\n",
              "      <td>0</td>\n",
              "    </tr>\n",
              "    <tr>\n",
              "      <th>14124</th>\n",
              "      <td>-117.08</td>\n",
              "      <td>32.75</td>\n",
              "      <td>20.0</td>\n",
              "      <td>1886.0</td>\n",
              "      <td>586.0</td>\n",
              "      <td>1134.0</td>\n",
              "      <td>525.0</td>\n",
              "      <td>1.5029</td>\n",
              "      <td>100000.0</td>\n",
              "      <td>NEAR OCEAN</td>\n",
              "      <td>1</td>\n",
              "      <td>0</td>\n",
              "      <td>0</td>\n",
              "    </tr>\n",
              "    <tr>\n",
              "      <th>7753</th>\n",
              "      <td>-118.11</td>\n",
              "      <td>33.91</td>\n",
              "      <td>19.0</td>\n",
              "      <td>3056.0</td>\n",
              "      <td>759.0</td>\n",
              "      <td>1561.0</td>\n",
              "      <td>740.0</td>\n",
              "      <td>3.1369</td>\n",
              "      <td>196900.0</td>\n",
              "      <td>&lt;1H OCEAN</td>\n",
              "      <td>1</td>\n",
              "      <td>0</td>\n",
              "      <td>0</td>\n",
              "    </tr>\n",
              "    <tr>\n",
              "      <th>16814</th>\n",
              "      <td>-122.43</td>\n",
              "      <td>37.64</td>\n",
              "      <td>34.0</td>\n",
              "      <td>8400.0</td>\n",
              "      <td>1812.0</td>\n",
              "      <td>4101.0</td>\n",
              "      <td>1717.0</td>\n",
              "      <td>4.1033</td>\n",
              "      <td>301000.0</td>\n",
              "      <td>NEAR OCEAN</td>\n",
              "      <td>0</td>\n",
              "      <td>1</td>\n",
              "      <td>1</td>\n",
              "    </tr>\n",
              "    <tr>\n",
              "      <th>5986</th>\n",
              "      <td>-117.71</td>\n",
              "      <td>34.10</td>\n",
              "      <td>52.0</td>\n",
              "      <td>567.0</td>\n",
              "      <td>152.0</td>\n",
              "      <td>2688.0</td>\n",
              "      <td>126.0</td>\n",
              "      <td>1.8750</td>\n",
              "      <td>212500.0</td>\n",
              "      <td>INLAND</td>\n",
              "      <td>1</td>\n",
              "      <td>0</td>\n",
              "      <td>0</td>\n",
              "    </tr>\n",
              "    <tr>\n",
              "      <th>2615</th>\n",
              "      <td>-124.11</td>\n",
              "      <td>40.95</td>\n",
              "      <td>19.0</td>\n",
              "      <td>1734.0</td>\n",
              "      <td>365.0</td>\n",
              "      <td>866.0</td>\n",
              "      <td>342.0</td>\n",
              "      <td>2.9600</td>\n",
              "      <td>81700.0</td>\n",
              "      <td>NEAR OCEAN</td>\n",
              "      <td>0</td>\n",
              "      <td>1</td>\n",
              "      <td>1</td>\n",
              "    </tr>\n",
              "    <tr>\n",
              "      <th>3224</th>\n",
              "      <td>-119.68</td>\n",
              "      <td>36.31</td>\n",
              "      <td>12.0</td>\n",
              "      <td>2739.0</td>\n",
              "      <td>535.0</td>\n",
              "      <td>1859.0</td>\n",
              "      <td>498.0</td>\n",
              "      <td>2.9936</td>\n",
              "      <td>60600.0</td>\n",
              "      <td>INLAND</td>\n",
              "      <td>0</td>\n",
              "      <td>0</td>\n",
              "      <td>0</td>\n",
              "    </tr>\n",
              "  </tbody>\n",
              "</table>\n",
              "</div>"
            ],
            "text/plain": [
              "       longitude  latitude  ...  Cluster_Complete  Cluster_Ward\n",
              "5114     -118.30     33.96  ...                 0             0\n",
              "666      -122.14     37.69  ...                 1             1\n",
              "6885     -118.09     34.06  ...                 0             0\n",
              "20325    -119.04     34.28  ...                 0             0\n",
              "14124    -117.08     32.75  ...                 0             0\n",
              "7753     -118.11     33.91  ...                 0             0\n",
              "16814    -122.43     37.64  ...                 1             1\n",
              "5986     -117.71     34.10  ...                 0             0\n",
              "2615     -124.11     40.95  ...                 1             1\n",
              "3224     -119.68     36.31  ...                 0             0\n",
              "\n",
              "[10 rows x 13 columns]"
            ]
          },
          "metadata": {},
          "execution_count": 40
        }
      ]
    },
    {
      "cell_type": "markdown",
      "metadata": {
        "id": "_7mSMm9Pv3KG"
      },
      "source": [
        "26.\tUntuk melakukan visualisasi, kita dapat menggunakan scatterplot dari library matplotlib. "
      ]
    },
    {
      "cell_type": "code",
      "metadata": {
        "colab": {
          "base_uri": "https://localhost:8080/",
          "height": 265
        },
        "id": "Pk4DG4XEb3FK",
        "outputId": "a12699c3-048f-46ad-ec0e-fbf29fbfd990"
      },
      "source": [
        "plt.scatter(x[:, 0], x[:, 1], c=y_agglom_ward, s=5, cmap='viridis')\n",
        "\n",
        "clf = NearestCentroid()\n",
        "clf.fit(x, y_agglom_ward)\n",
        "centers = clf.centroids_\n",
        "plt.scatter(centers[:, 0], centers[:, 1], c='red', s=50, alpha=1);"
      ],
      "execution_count": null,
      "outputs": [
        {
          "output_type": "display_data",
          "data": {
            "image/png": "[encoded data removed]",
            "text/plain": [
              "<Figure size 432x288 with 1 Axes>"
            ]
          },
          "metadata": {
            "needs_background": "light"
          }
        }
      ]
    },
    {
      "cell_type": "markdown",
      "metadata": {
        "id": "72UzYbdyv4J3"
      },
      "source": [
        "# Tahap 3: Evaluasi\n",
        "### Perbandingan Hasil Average Linkage, Complete Linkage, dan Ward Linkage\n",
        "![perbandingan.PNG](data:image/png;base64,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)\n",
        "\n",
        "<br>\n",
        "<br>\n",
        "\n",
        "\n",
        "Hasil clustering yang bagus adalah hasil clustering dengan nilai WSS lebih kecil dan nilai BSS yang lebih besar, dan silhouette score yang paling mendekati 1. \n",
        "\n",
        "Dari perbandingan yang kita dapatkan, dilihat bahwa: \n",
        "1.\tNilai WSS terkecil dimiliki oleh average linkage dan terbesar dimiliki oleh complete linkage. \n",
        "2.\tNilai BSS terbesar dimiliki oleh average linkage dan terkecil dimiliki oleh complete linkage. \n",
        "3.\tNilai silhouette score terbesar dimiliki oleh average linkage. \n",
        "Dari hasil yang kita dapatkan juga dapat disimpulkan bahwa: \n",
        "1.\tKinerja dari method Agglomerative Clustering dengan Average Linkage yang paling bagus dan efektif.  \n",
        "2.\tUrutan kinerja dari paling bagus menuju paling buruk: \n",
        "Average Linkage > Ward Linkage > Complete Linkage\n"
      ]
    },
    {
      "cell_type": "markdown",
      "metadata": {
        "id": "RUQoV6-fwktQ"
      },
      "source": [
        "# Referensi\n",
        "Referensi yang digunakan dalam membuat tugas yaitu:<br> \n",
        "1. https://stats.stackexchange.com/questions/81954/ssb-sum-of-squares-between-clusters\n",
        "2. http://bagusco.staff.ipb.ac.id/files/2016/06/Analisis-Cluster-Bagian-2.pdf\n",
        "3. https://www.kdnuggets.com/2019/05/golden-goose-cohort-analysis.html/2\n",
        "4. https://www.analyticsvidhya.com/blog/2019/05/beginners-guide-hierarchical-clustering/\n",
        "5. https://towardsdatascience.com/agglomerative-clustering-and-dendrograms-explained-29fc12b85f23\n",
        "6. https://www.kaggle.com/esanvsh/iris-clustering-with-k-means-hierarchical\n",
        "\n",
        "\n"
      ]
    }
  ]
}