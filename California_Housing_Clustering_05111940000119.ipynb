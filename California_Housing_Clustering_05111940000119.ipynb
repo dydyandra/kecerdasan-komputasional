{
  "nbformat": 4,
  "nbformat_minor": 0,
  "metadata": {
    "colab": {
      "name": "California Housing Clustering_05111940000119",
      "provenance": [],
      "authorship_tag": "ABX9TyNLOTBBkM+OG5v9JfXrerWw",
      "include_colab_link": true
    },
    "kernelspec": {
      "display_name": "Python 3",
      "name": "python3"
    },
    "language_info": {
      "name": "python"
    }
  },
  "cells": [
    {
      "cell_type": "markdown",
      "metadata": {
        "id": "view-in-github",
        "colab_type": "text"
      },
      "source": [
        "<a href=\"https://colab.research.google.com/github/dydyandra/kecerdasan-komputasional/blob/master/California_Housing_Clustering_05111940000119.ipynb\" target=\"_parent\"><img src=\"https://colab.research.google.com/assets/colab-badge.svg\" alt=\"Open In Colab\"/></a>"
      ]
    },
    {
      "cell_type": "markdown",
      "metadata": {
        "id": "jQMG-TSIpH0u"
      },
      "source": [
        "# Tugas California Housing Clustering\n",
        "Nama: Dyandra Paramitha Widyadhana<br>\n",
        "NRP: 05111940000119<br>\n",
        "Kelas: KK F"
      ]
    },
    {
      "cell_type": "markdown",
      "metadata": {
        "id": "35-OySGampEL"
      },
      "source": [
        "# Membaca Dataset\n",
        "Link Dataset: [California House Prices](https://www.kaggle.com/camnugent/california-housing-prices)"
      ]
    },
    {
      "cell_type": "markdown",
      "metadata": {
        "id": "tFdcRU2ymwcw"
      },
      "source": [
        "1.\tSebelum melakukan clustering, yang pertama harus dilakukan yaitu melakukan import library yang dibutuhkan. Ada beberapa library yang dibutuhkan seperti pandas, numpy, matplotlib, seaborn, KMeans dan datasets (yang berasal dari Machine Learning Library scikit-learn). "
      ]
    },
    {
      "cell_type": "code",
      "metadata": {
        "id": "U-ggx4Tovgvg"
      },
      "source": [
        "# importing libraries used \n",
        "import pandas as pd\n",
        "import numpy as np\n",
        "import matplotlib.pyplot as plt\n",
        "import seaborn as sns\n",
        "from sklearn.cluster import KMeans\n",
        "from sklearn import datasets"
      ],
      "execution_count": 1,
      "outputs": []
    },
    {
      "cell_type": "markdown",
      "metadata": {
        "id": "mKXaenPlmzXb"
      },
      "source": [
        "2.\tSetelah library berhasil diimport, kemudian kita harus membaca file housing.csv untuk mendapatkan dataset yang kita butuhkan untuk clustering. Dalam membaca file, dapat digunakan library pandas yaitu read_csv. \n",
        "Setelah file berhasil dibaca, kita dapat melihat isi dan summary dari dataset menggunakan df.head() untuk menampilkan 5 data pertama.\n"
      ]
    },
    {
      "cell_type": "code",
      "metadata": {
        "id": "JF2uYSnfvr7O",
        "colab": {
          "base_uri": "https://localhost:8080/",
          "height": 206
        },
        "outputId": "b2deda3a-88da-40c4-d65e-daf3da045218"
      },
      "source": [
        "# reading the data\n",
        "df = pd.read_csv('housing.csv')\n",
        "df.head()"
      ],
      "execution_count": 2,
      "outputs": [
        {
          "output_type": "execute_result",
          "data": {
            "text/html": [
              "<div>\n",
              "<style scoped>\n",
              "    .dataframe tbody tr th:only-of-type {\n",
              "        vertical-align: middle;\n",
              "    }\n",
              "\n",
              "    .dataframe tbody tr th {\n",
              "        vertical-align: top;\n",
              "    }\n",
              "\n",
              "    .dataframe thead th {\n",
              "        text-align: right;\n",
              "    }\n",
              "</style>\n",
              "<table border=\"1\" class=\"dataframe\">\n",
              "  <thead>\n",
              "    <tr style=\"text-align: right;\">\n",
              "      <th></th>\n",
              "      <th>longitude</th>\n",
              "      <th>latitude</th>\n",
              "      <th>housing_median_age</th>\n",
              "      <th>total_rooms</th>\n",
              "      <th>total_bedrooms</th>\n",
              "      <th>population</th>\n",
              "      <th>households</th>\n",
              "      <th>median_income</th>\n",
              "      <th>median_house_value</th>\n",
              "      <th>ocean_proximity</th>\n",
              "    </tr>\n",
              "  </thead>\n",
              "  <tbody>\n",
              "    <tr>\n",
              "      <th>0</th>\n",
              "      <td>-122.23</td>\n",
              "      <td>37.88</td>\n",
              "      <td>41.0</td>\n",
              "      <td>880.0</td>\n",
              "      <td>129.0</td>\n",
              "      <td>322.0</td>\n",
              "      <td>126.0</td>\n",
              "      <td>8.3252</td>\n",
              "      <td>452600.0</td>\n",
              "      <td>NEAR BAY</td>\n",
              "    </tr>\n",
              "    <tr>\n",
              "      <th>1</th>\n",
              "      <td>-122.22</td>\n",
              "      <td>37.86</td>\n",
              "      <td>21.0</td>\n",
              "      <td>7099.0</td>\n",
              "      <td>1106.0</td>\n",
              "      <td>2401.0</td>\n",
              "      <td>1138.0</td>\n",
              "      <td>8.3014</td>\n",
              "      <td>358500.0</td>\n",
              "      <td>NEAR BAY</td>\n",
              "    </tr>\n",
              "    <tr>\n",
              "      <th>2</th>\n",
              "      <td>-122.24</td>\n",
              "      <td>37.85</td>\n",
              "      <td>52.0</td>\n",
              "      <td>1467.0</td>\n",
              "      <td>190.0</td>\n",
              "      <td>496.0</td>\n",
              "      <td>177.0</td>\n",
              "      <td>7.2574</td>\n",
              "      <td>352100.0</td>\n",
              "      <td>NEAR BAY</td>\n",
              "    </tr>\n",
              "    <tr>\n",
              "      <th>3</th>\n",
              "      <td>-122.25</td>\n",
              "      <td>37.85</td>\n",
              "      <td>52.0</td>\n",
              "      <td>1274.0</td>\n",
              "      <td>235.0</td>\n",
              "      <td>558.0</td>\n",
              "      <td>219.0</td>\n",
              "      <td>5.6431</td>\n",
              "      <td>341300.0</td>\n",
              "      <td>NEAR BAY</td>\n",
              "    </tr>\n",
              "    <tr>\n",
              "      <th>4</th>\n",
              "      <td>-122.25</td>\n",
              "      <td>37.85</td>\n",
              "      <td>52.0</td>\n",
              "      <td>1627.0</td>\n",
              "      <td>280.0</td>\n",
              "      <td>565.0</td>\n",
              "      <td>259.0</td>\n",
              "      <td>3.8462</td>\n",
              "      <td>342200.0</td>\n",
              "      <td>NEAR BAY</td>\n",
              "    </tr>\n",
              "  </tbody>\n",
              "</table>\n",
              "</div>"
            ],
            "text/plain": [
              "   longitude  latitude  ...  median_house_value  ocean_proximity\n",
              "0    -122.23     37.88  ...            452600.0         NEAR BAY\n",
              "1    -122.22     37.86  ...            358500.0         NEAR BAY\n",
              "2    -122.24     37.85  ...            352100.0         NEAR BAY\n",
              "3    -122.25     37.85  ...            341300.0         NEAR BAY\n",
              "4    -122.25     37.85  ...            342200.0         NEAR BAY\n",
              "\n",
              "[5 rows x 10 columns]"
            ]
          },
          "metadata": {},
          "execution_count": 2
        }
      ]
    },
    {
      "cell_type": "markdown",
      "metadata": {
        "id": "3rbaamMim8DV"
      },
      "source": [
        "Dapat dilihat beberapa isi dari dataset, yang terdiri atas longitude, latitude, housing_median_age, total_rooms, total_bedrooms, population, households, median_income, median_house_value, ocean_proximity. \n",
        "\n",
        "Dapat dilihat juga bahwa semua kolom memiliki tipe data numerical, kecuali ocean_proximity yang merupakan categorical data. \n"
      ]
    },
    {
      "cell_type": "markdown",
      "metadata": {
        "id": "Ci6NGUTgm_id"
      },
      "source": [
        "# Data Preprocessing"
      ]
    },
    {
      "cell_type": "markdown",
      "metadata": {
        "id": "qWz4QLh8nBpF"
      },
      "source": [
        "3.\tUntuk melihat summary, kita dapat menggunakan df.info(), yang akan menampilkan beberapa hal seperti tipe, rentang index, isi kolom dataset dengan jumlah dan jenis masing-masing fitur. "
      ]
    },
    {
      "cell_type": "code",
      "metadata": {
        "colab": {
          "base_uri": "https://localhost:8080/"
        },
        "id": "1dPmj3IOv6JJ",
        "outputId": "461485c4-fae9-4419-d414-3953bbbeb77b"
      },
      "source": [
        "df.info()"
      ],
      "execution_count": 3,
      "outputs": [
        {
          "output_type": "stream",
          "name": "stdout",
          "text": [
            "<class 'pandas.core.frame.DataFrame'>\n",
            "RangeIndex: 20640 entries, 0 to 20639\n",
            "Data columns (total 10 columns):\n",
            " #   Column              Non-Null Count  Dtype  \n",
            "---  ------              --------------  -----  \n",
            " 0   longitude           20640 non-null  float64\n",
            " 1   latitude            20640 non-null  float64\n",
            " 2   housing_median_age  20640 non-null  float64\n",
            " 3   total_rooms         20640 non-null  float64\n",
            " 4   total_bedrooms      20433 non-null  float64\n",
            " 5   population          20640 non-null  float64\n",
            " 6   households          20640 non-null  float64\n",
            " 7   median_income       20640 non-null  float64\n",
            " 8   median_house_value  20640 non-null  float64\n",
            " 9   ocean_proximity     20640 non-null  object \n",
            "dtypes: float64(9), object(1)\n",
            "memory usage: 1.6+ MB\n"
          ]
        }
      ]
    },
    {
      "cell_type": "markdown",
      "metadata": {
        "id": "yz71_wdOnEix"
      },
      "source": [
        "4.\tDengan menggunakan df.isnull().sum() yang akan mengembalikan jumlah data yang hilang dari dataset. Tujuan kita adalah untuk melihat apakah atribut yang dibutuhkan memiliki data yang lengkap atau tidak. Data yang hilang dapat berdampak besar pada model yang dibuat dikarenakan dapat mengurasi keakurasian dari data. \n"
      ]
    },
    {
      "cell_type": "code",
      "metadata": {
        "colab": {
          "base_uri": "https://localhost:8080/"
        },
        "id": "GdFgon409yHq",
        "outputId": "653cf43e-548e-4c58-fc7a-47ced72691b9"
      },
      "source": [
        "# finding missing data\n",
        "df.isnull().sum()"
      ],
      "execution_count": 4,
      "outputs": [
        {
          "output_type": "execute_result",
          "data": {
            "text/plain": [
              "longitude               0\n",
              "latitude                0\n",
              "housing_median_age      0\n",
              "total_rooms             0\n",
              "total_bedrooms        207\n",
              "population              0\n",
              "households              0\n",
              "median_income           0\n",
              "median_house_value      0\n",
              "ocean_proximity         0\n",
              "dtype: int64"
            ]
          },
          "metadata": {},
          "execution_count": 4
        }
      ]
    },
    {
      "cell_type": "markdown",
      "metadata": {
        "id": "-4FUHCpJnLc7"
      },
      "source": [
        "Dapat dilihat bahwa terdapat 20640 data dalam dataset. Terlihat juga bahwa terdapat missing value pada total_bedrooms sebanyak 207 data. Akan tetapi, dikarenakan fitur yang digunakan yaitu longitude dan latitude, maka missing value pada total_bedrooms tidak akan mempengaruhi banyak terhadap clustering yang akan dilakukan. "
      ]
    },
    {
      "cell_type": "markdown",
      "metadata": {
        "id": "ybfw5RicnNMJ"
      },
      "source": [
        "# Feature Selection"
      ]
    },
    {
      "cell_type": "markdown",
      "metadata": {
        "id": "rVWVpepNnRCb"
      },
      "source": [
        "5.\tSetelah melakukan data preprocessing, kemudian kita bisa memilih feature selection untuk digunakan dalam model Clustering kita. Feature selection digunakan untuk mengambil data-data yang dibutuhkan dan bertujuan untuk memilih feature yang berpengaruh dan mengesampingkan feature yang tidak berpengaruh dalam suatu kegiatan pemodelan atau penganalisaan data. \n",
        "\n",
        "> Dikarenakan yang diminta yaitu longitude dan latitude, kita dapat mengambil 2 kolom pertama dari dataframe. Untuk ini, kita bisa menggunakan df.iloc[:, [0,1]] , untuk mendapat baris (atau kolom) pada posisi tertentu dalam indeks.  Adapun kita membuat DataFrame baru yang bernama feature_df.\n",
        "\n",
        "\n",
        "\n",
        "\n",
        "\n"
      ]
    },
    {
      "cell_type": "code",
      "metadata": {
        "id": "-C-XVDXZ93ru"
      },
      "source": [
        "#feature selection (longitude, latitude)\n",
        "feature_df = df.iloc[:, [0,1]] "
      ],
      "execution_count": 5,
      "outputs": []
    },
    {
      "cell_type": "code",
      "metadata": {
        "colab": {
          "base_uri": "https://localhost:8080/",
          "height": 424
        },
        "id": "pvUlJBPzpsiH",
        "outputId": "b0254896-a491-445a-907c-578e84559f5d"
      },
      "source": [
        "feature_df"
      ],
      "execution_count": 6,
      "outputs": [
        {
          "output_type": "execute_result",
          "data": {
            "text/html": [
              "<div>\n",
              "<style scoped>\n",
              "    .dataframe tbody tr th:only-of-type {\n",
              "        vertical-align: middle;\n",
              "    }\n",
              "\n",
              "    .dataframe tbody tr th {\n",
              "        vertical-align: top;\n",
              "    }\n",
              "\n",
              "    .dataframe thead th {\n",
              "        text-align: right;\n",
              "    }\n",
              "</style>\n",
              "<table border=\"1\" class=\"dataframe\">\n",
              "  <thead>\n",
              "    <tr style=\"text-align: right;\">\n",
              "      <th></th>\n",
              "      <th>longitude</th>\n",
              "      <th>latitude</th>\n",
              "    </tr>\n",
              "  </thead>\n",
              "  <tbody>\n",
              "    <tr>\n",
              "      <th>0</th>\n",
              "      <td>-122.23</td>\n",
              "      <td>37.88</td>\n",
              "    </tr>\n",
              "    <tr>\n",
              "      <th>1</th>\n",
              "      <td>-122.22</td>\n",
              "      <td>37.86</td>\n",
              "    </tr>\n",
              "    <tr>\n",
              "      <th>2</th>\n",
              "      <td>-122.24</td>\n",
              "      <td>37.85</td>\n",
              "    </tr>\n",
              "    <tr>\n",
              "      <th>3</th>\n",
              "      <td>-122.25</td>\n",
              "      <td>37.85</td>\n",
              "    </tr>\n",
              "    <tr>\n",
              "      <th>4</th>\n",
              "      <td>-122.25</td>\n",
              "      <td>37.85</td>\n",
              "    </tr>\n",
              "    <tr>\n",
              "      <th>...</th>\n",
              "      <td>...</td>\n",
              "      <td>...</td>\n",
              "    </tr>\n",
              "    <tr>\n",
              "      <th>20635</th>\n",
              "      <td>-121.09</td>\n",
              "      <td>39.48</td>\n",
              "    </tr>\n",
              "    <tr>\n",
              "      <th>20636</th>\n",
              "      <td>-121.21</td>\n",
              "      <td>39.49</td>\n",
              "    </tr>\n",
              "    <tr>\n",
              "      <th>20637</th>\n",
              "      <td>-121.22</td>\n",
              "      <td>39.43</td>\n",
              "    </tr>\n",
              "    <tr>\n",
              "      <th>20638</th>\n",
              "      <td>-121.32</td>\n",
              "      <td>39.43</td>\n",
              "    </tr>\n",
              "    <tr>\n",
              "      <th>20639</th>\n",
              "      <td>-121.24</td>\n",
              "      <td>39.37</td>\n",
              "    </tr>\n",
              "  </tbody>\n",
              "</table>\n",
              "<p>20640 rows × 2 columns</p>\n",
              "</div>"
            ],
            "text/plain": [
              "       longitude  latitude\n",
              "0        -122.23     37.88\n",
              "1        -122.22     37.86\n",
              "2        -122.24     37.85\n",
              "3        -122.25     37.85\n",
              "4        -122.25     37.85\n",
              "...          ...       ...\n",
              "20635    -121.09     39.48\n",
              "20636    -121.21     39.49\n",
              "20637    -121.22     39.43\n",
              "20638    -121.32     39.43\n",
              "20639    -121.24     39.37\n",
              "\n",
              "[20640 rows x 2 columns]"
            ]
          },
          "metadata": {},
          "execution_count": 6
        }
      ]
    },
    {
      "cell_type": "markdown",
      "metadata": {
        "id": "W2IMC6exnh83"
      },
      "source": [
        "6.\tDari data sebelum dilakukan pemodelan, dilihat terlebih dahulu apakah terdapat data yang harus dinormalisasi atau tidak. Normalisasi data adalah proses membuat beberapa variabel memiliki rentang nilai yang sama apabila rentang pada data asli terlalu jauh, untuk memudahkan analisis statistic dan pemodelan data nantinya. \n",
        "\n"
      ]
    },
    {
      "cell_type": "code",
      "metadata": {
        "colab": {
          "base_uri": "https://localhost:8080/",
          "height": 300
        },
        "id": "tqW4Syg7SdaH",
        "outputId": "c255b969-094b-4804-e879-a12ba1171c6e"
      },
      "source": [
        "feature_df.describe()"
      ],
      "execution_count": 7,
      "outputs": [
        {
          "output_type": "execute_result",
          "data": {
            "text/html": [
              "<div>\n",
              "<style scoped>\n",
              "    .dataframe tbody tr th:only-of-type {\n",
              "        vertical-align: middle;\n",
              "    }\n",
              "\n",
              "    .dataframe tbody tr th {\n",
              "        vertical-align: top;\n",
              "    }\n",
              "\n",
              "    .dataframe thead th {\n",
              "        text-align: right;\n",
              "    }\n",
              "</style>\n",
              "<table border=\"1\" class=\"dataframe\">\n",
              "  <thead>\n",
              "    <tr style=\"text-align: right;\">\n",
              "      <th></th>\n",
              "      <th>longitude</th>\n",
              "      <th>latitude</th>\n",
              "    </tr>\n",
              "  </thead>\n",
              "  <tbody>\n",
              "    <tr>\n",
              "      <th>count</th>\n",
              "      <td>20640.000000</td>\n",
              "      <td>20640.000000</td>\n",
              "    </tr>\n",
              "    <tr>\n",
              "      <th>mean</th>\n",
              "      <td>-119.569704</td>\n",
              "      <td>35.631861</td>\n",
              "    </tr>\n",
              "    <tr>\n",
              "      <th>std</th>\n",
              "      <td>2.003532</td>\n",
              "      <td>2.135952</td>\n",
              "    </tr>\n",
              "    <tr>\n",
              "      <th>min</th>\n",
              "      <td>-124.350000</td>\n",
              "      <td>32.540000</td>\n",
              "    </tr>\n",
              "    <tr>\n",
              "      <th>25%</th>\n",
              "      <td>-121.800000</td>\n",
              "      <td>33.930000</td>\n",
              "    </tr>\n",
              "    <tr>\n",
              "      <th>50%</th>\n",
              "      <td>-118.490000</td>\n",
              "      <td>34.260000</td>\n",
              "    </tr>\n",
              "    <tr>\n",
              "      <th>75%</th>\n",
              "      <td>-118.010000</td>\n",
              "      <td>37.710000</td>\n",
              "    </tr>\n",
              "    <tr>\n",
              "      <th>max</th>\n",
              "      <td>-114.310000</td>\n",
              "      <td>41.950000</td>\n",
              "    </tr>\n",
              "  </tbody>\n",
              "</table>\n",
              "</div>"
            ],
            "text/plain": [
              "          longitude      latitude\n",
              "count  20640.000000  20640.000000\n",
              "mean    -119.569704     35.631861\n",
              "std        2.003532      2.135952\n",
              "min     -124.350000     32.540000\n",
              "25%     -121.800000     33.930000\n",
              "50%     -118.490000     34.260000\n",
              "75%     -118.010000     37.710000\n",
              "max     -114.310000     41.950000"
            ]
          },
          "metadata": {},
          "execution_count": 7
        }
      ]
    },
    {
      "cell_type": "markdown",
      "metadata": {
        "id": "P0see43xnt7X"
      },
      "source": [
        "Akan tetapi, dapat dilihat bahwa rentang nilai dari longitude [-119.6, -114.3] dan latitude [35,6, 42] tidak terlalu besar. Dapat juga dilihat dari standar deviasinya yang tidak terlalu besar, sehingga data tidak perlu dinormalisasi kembali. "
      ]
    },
    {
      "cell_type": "markdown",
      "metadata": {
        "id": "6HYugTxmnxnd"
      },
      "source": [
        "7.\tSetelah itu, DataFrame feature_df agar dapat dilakukan pemodelan harus diubah menjadi array. Untuk melakukan ini, dapat menggunakan library numpy, yaitu np.array, yang akan mengkonversikan yang sebelumnya bertipe DataFrame menjadi array 2D. "
      ]
    },
    {
      "cell_type": "code",
      "metadata": {
        "id": "5c8w8cpdwhNO",
        "colab": {
          "base_uri": "https://localhost:8080/"
        },
        "outputId": "f1cfce53-6325-4d36-8d8e-e33df620d8cc"
      },
      "source": [
        "x  = np.array(feature_df)\n",
        "x"
      ],
      "execution_count": 8,
      "outputs": [
        {
          "output_type": "execute_result",
          "data": {
            "text/plain": [
              "array([[-122.23,   37.88],\n",
              "       [-122.22,   37.86],\n",
              "       [-122.24,   37.85],\n",
              "       ...,\n",
              "       [-121.22,   39.43],\n",
              "       [-121.32,   39.43],\n",
              "       [-121.24,   39.37]])"
            ]
          },
          "metadata": {},
          "execution_count": 8
        }
      ]
    },
    {
      "cell_type": "markdown",
      "metadata": {
        "id": "K4XR0HX0nznk"
      },
      "source": [
        "# Clustering"
      ]
    },
    {
      "cell_type": "markdown",
      "metadata": {
        "id": "3qwT1xHTn1JH"
      },
      "source": [
        "## Menentukan Jumlah Cluster dengan Elbow Method"
      ]
    },
    {
      "cell_type": "markdown",
      "metadata": {
        "id": "1Es-UVR5n6hs"
      },
      "source": [
        "8.\tSebelum melakukan clustering, kita harus menentukan terlebih dahulu jumlah cluster yang ingin digunakan. Untuk menentukan jumlah cluster, kita dapat menggunakan Elbow Method, dimana cara melihat persentase hasil perbandingan antara jumlah cluster yang akan membentuk siku pada suatu titik. Suatu siku ini menandakan cluster mana yang paling optimal untuk digunakan. "
      ]
    },
    {
      "cell_type": "code",
      "metadata": {
        "colab": {
          "base_uri": "https://localhost:8080/",
          "height": 513
        },
        "id": "AOnQJho6wk0g",
        "outputId": "4247932c-467e-459c-c759-871fc322b443"
      },
      "source": [
        "# Collecting the distortions into list\n",
        "distortions = []\n",
        "\n",
        "K = range(1,10)\n",
        "for k in K:\n",
        " kmean_Model = KMeans(n_clusters=k)\n",
        " kmean_Model.fit(x)\n",
        " distortions.append(kmean_Model.inertia_)\n",
        "\n",
        "# Plotting the distortions\n",
        "plt.figure(figsize=(10,8))\n",
        "plt.plot(K, distortions, 'b*-')\n",
        "plt.xlabel(['k'])\n",
        "plt.ylabel('Distortion')\n",
        "plt.title(['Elbow Method'])\n",
        "plt.show()\n"
      ],
      "execution_count": 9,
      "outputs": [
        {
          "output_type": "display_data",
          "data": {
            "image/png": "[encoded data removed]",
            "text/plain": [
              "<Figure size 720x576 with 1 Axes>"
            ]
          },
          "metadata": {
            "needs_background": "light"
          }
        }
      ]
    },
    {
      "cell_type": "markdown",
      "metadata": {
        "id": "_XGOrMG1n9Xn"
      },
      "source": [
        "Dari elbow method, terlihat bahwa jumlah optimal cluster yaitu di antara 2 dan 3. "
      ]
    },
    {
      "cell_type": "markdown",
      "metadata": {
        "id": "c6AyFBr7oAij"
      },
      "source": [
        "9.\tSelain dengan melihat perbandingan visualisasi Distortion juga dapat menggunakan Silhouette Method menggunakan SSE (Sum of Squared Error) "
      ]
    },
    {
      "cell_type": "code",
      "metadata": {
        "id": "dgG3BNPoZqzh"
      },
      "source": [
        "kmeans_kwargs = {\n",
        "    \"init\": \"k-means++\",\n",
        "    \"n_init\": 10,\n",
        "    \"max_iter\": 100,\n",
        "    \"random_state\": 3425,\n",
        "}\n",
        "\n",
        "# A list holds the SSE values for each k\n",
        "sse = []\n",
        "for k in range(1, 10):\n",
        "    kmeans = KMeans(n_clusters=k, **kmeans_kwargs)\n",
        "    kmeans.fit(x)\n",
        "    sse.append(kmeans.inertia_)"
      ],
      "execution_count": 10,
      "outputs": []
    },
    {
      "cell_type": "code",
      "metadata": {
        "colab": {
          "base_uri": "https://localhost:8080/"
        },
        "id": "xefZvLH8eyTc",
        "outputId": "e3693b04-928a-499f-b2ea-1f8531bf0996"
      },
      "source": [
        "pip install kneed"
      ],
      "execution_count": 11,
      "outputs": [
        {
          "output_type": "stream",
          "name": "stdout",
          "text": [
            "Requirement already satisfied: kneed in /usr/local/lib/python3.7/dist-packages (0.7.0)\n",
            "Requirement already satisfied: matplotlib in /usr/local/lib/python3.7/dist-packages (from kneed) (3.2.2)\n",
            "Requirement already satisfied: numpy>=1.14.2 in /usr/local/lib/python3.7/dist-packages (from kneed) (1.19.5)\n",
            "Requirement already satisfied: scipy in /usr/local/lib/python3.7/dist-packages (from kneed) (1.4.1)\n",
            "Requirement already satisfied: pyparsing!=2.0.4,!=2.1.2,!=2.1.6,>=2.0.1 in /usr/local/lib/python3.7/dist-packages (from matplotlib->kneed) (2.4.7)\n",
            "Requirement already satisfied: python-dateutil>=2.1 in /usr/local/lib/python3.7/dist-packages (from matplotlib->kneed) (2.8.2)\n",
            "Requirement already satisfied: cycler>=0.10 in /usr/local/lib/python3.7/dist-packages (from matplotlib->kneed) (0.10.0)\n",
            "Requirement already satisfied: kiwisolver>=1.0.1 in /usr/local/lib/python3.7/dist-packages (from matplotlib->kneed) (1.3.2)\n",
            "Requirement already satisfied: six in /usr/local/lib/python3.7/dist-packages (from cycler>=0.10->matplotlib->kneed) (1.15.0)\n"
          ]
        }
      ]
    },
    {
      "cell_type": "code",
      "metadata": {
        "colab": {
          "base_uri": "https://localhost:8080/"
        },
        "id": "MiniyvkpeiPC",
        "outputId": "e0a92ec4-fbde-4918-82b2-0f235b3e7b2d"
      },
      "source": [
        "from kneed import KneeLocator\n",
        "kl = KneeLocator(\n",
        "    range(1, 10), sse, curve=\"convex\", direction=\"decreasing\"\n",
        ")\n",
        "\n",
        "kl.elbow"
      ],
      "execution_count": 12,
      "outputs": [
        {
          "output_type": "execute_result",
          "data": {
            "text/plain": [
              "2"
            ]
          },
          "metadata": {},
          "execution_count": 12
        }
      ]
    },
    {
      "cell_type": "markdown",
      "metadata": {
        "id": "mvWv47YQoV8B"
      },
      "source": [
        "Dengan menggunakan package Kneed dan library KneeLocator, kita juga dapat menentukan jumlah cluster. Dengan menggunakan hasil SSE yang didapatkan, terlihat bahwa jumlah cluster yang optimal yaitu 2. "
      ]
    },
    {
      "cell_type": "markdown",
      "metadata": {
        "id": "WFJueFA8oXUD"
      },
      "source": [
        "## Menentukan Jumlah Cluster dengan Silhouette Method"
      ]
    },
    {
      "cell_type": "markdown",
      "metadata": {
        "id": "TzWaOp9FocKy"
      },
      "source": [
        "10.\tSalah satu cara lain untuk menentukan jumlah cluster yaitu dengan menggunakan Silhouette Method. Pada percobaan Silhouette Method ini, akan dicoba untuk memvisualisasi apabila terdapat 4 tipe cluster yaitu k = 2, k = 3, k = 4, atau k = 5. "
      ]
    },
    {
      "cell_type": "code",
      "metadata": {
        "colab": {
          "base_uri": "https://localhost:8080/"
        },
        "id": "HJE1N5ujYEo-",
        "outputId": "5bba0653-42f6-46de-8e0e-55d72acae46d"
      },
      "source": [
        "from sklearn.metrics import silhouette_score\n",
        "from sklearn.metrics import silhouette_samples \n",
        "\n",
        "\n",
        "km = KMeans(n_clusters=3, random_state=42)\n",
        "\n",
        "km.fit_predict(x)\n",
        "\n",
        "score = silhouette_score(x, km.labels_, metric='euclidean')\n",
        "\n",
        "print('Silhouetter Score: %.3f' % score)"
      ],
      "execution_count": 13,
      "outputs": [
        {
          "output_type": "stream",
          "name": "stdout",
          "text": [
            "Silhouetter Score: 0.647\n"
          ]
        }
      ]
    },
    {
      "cell_type": "code",
      "metadata": {
        "colab": {
          "base_uri": "https://localhost:8080/",
          "height": 539
        },
        "id": "FiyNjWOtZq7W",
        "outputId": "c85e9abe-9bb3-4462-c86c-9b1a613b43e3"
      },
      "source": [
        "from yellowbrick.cluster import SilhouetteVisualizer\n",
        "\n",
        "fig, ax = plt.subplots(2, 2, figsize=(15,8))\n",
        "for i in [2, 3, 4, 5]:\n",
        "\n",
        "    km = KMeans(n_clusters=i, init='k-means++', max_iter=100, \n",
        "                      verbose=0, random_state=3425)\n",
        "    q, mod = divmod(i, 2)\n",
        "\n",
        "    visualizer = SilhouetteVisualizer(km, colors='yellowbrick', ax=ax[q-1][mod])\n",
        "    visualizer.fit(x)"
      ],
      "execution_count": 14,
      "outputs": [
        {
          "output_type": "stream",
          "name": "stderr",
          "text": [
            "/usr/local/lib/python3.7/dist-packages/sklearn/utils/deprecation.py:144: FutureWarning: The sklearn.metrics.classification module is  deprecated in version 0.22 and will be removed in version 0.24. The corresponding classes / functions should instead be imported from sklearn.metrics. Anything that cannot be imported from sklearn.metrics is now part of the private API.\n",
            "  warnings.warn(message, FutureWarning)\n"
          ]
        },
        {
          "output_type": "display_data",
          "data": {
            "image/png": "[encoded data removed]",
            "text/plain": [
              "<Figure size 1080x576 with 4 Axes>"
            ]
          },
          "metadata": {}
        }
      ]
    },
    {
      "cell_type": "markdown",
      "metadata": {
        "id": "XvVhLF1Loe-8"
      },
      "source": [
        "Dapat dilihat untuk Silhouette Method bahwa pembagian data yang lebih uniform dan atau rata yaitu pada saat kluster berjumlah 2, sehingga sesuai dengan jumlah kluster yang didapatkan di Elbow Method. "
      ]
    },
    {
      "cell_type": "markdown",
      "metadata": {
        "id": "2uHsSvh_olCq"
      },
      "source": [
        "## Clustering Menggunakan K-Means"
      ]
    },
    {
      "cell_type": "markdown",
      "metadata": {
        "id": "hg6DBL8Loo5d"
      },
      "source": [
        "11.\tSetelah selesai menentukan jumlah cluster, kita dapat membuat model menggunakan K-Means. Adapun kemudian dapat dilakukan prediksi untuk dataset yang kita miliki. "
      ]
    },
    {
      "cell_type": "code",
      "metadata": {
        "id": "yprFEFbDxUiD"
      },
      "source": [
        "# Define the model\n",
        "number_of_k = 2\n",
        "kmeans_model = KMeans(n_clusters=number_of_k, init='k-means++', max_iter=100, \n",
        "                      verbose=0, random_state=3425)\n",
        "# Fit into our dataset fit\n",
        "y_kmeans = kmeans_model.fit_predict(x)"
      ],
      "execution_count": 15,
      "outputs": []
    },
    {
      "cell_type": "markdown",
      "metadata": {
        "id": "wYRCJPXLoqTk"
      },
      "source": [
        "12.\tMenambahkan kolom baru pada DataFrame awal untuk hasil prediksi yang didapatkan. Pada gambar di bawah terdapat sampling random dari isi DataFrame sekarang. "
      ]
    },
    {
      "cell_type": "code",
      "metadata": {
        "id": "e2WifJq5ygpj",
        "colab": {
          "base_uri": "https://localhost:8080/",
          "height": 363
        },
        "outputId": "a442fc88-161f-4587-80c6-410a1d92bfd4"
      },
      "source": [
        "df['Cluster'] = y_kmeans\n",
        "df.sample(10)"
      ],
      "execution_count": 16,
      "outputs": [
        {
          "output_type": "execute_result",
          "data": {
            "text/html": [
              "<div>\n",
              "<style scoped>\n",
              "    .dataframe tbody tr th:only-of-type {\n",
              "        vertical-align: middle;\n",
              "    }\n",
              "\n",
              "    .dataframe tbody tr th {\n",
              "        vertical-align: top;\n",
              "    }\n",
              "\n",
              "    .dataframe thead th {\n",
              "        text-align: right;\n",
              "    }\n",
              "</style>\n",
              "<table border=\"1\" class=\"dataframe\">\n",
              "  <thead>\n",
              "    <tr style=\"text-align: right;\">\n",
              "      <th></th>\n",
              "      <th>longitude</th>\n",
              "      <th>latitude</th>\n",
              "      <th>housing_median_age</th>\n",
              "      <th>total_rooms</th>\n",
              "      <th>total_bedrooms</th>\n",
              "      <th>population</th>\n",
              "      <th>households</th>\n",
              "      <th>median_income</th>\n",
              "      <th>median_house_value</th>\n",
              "      <th>ocean_proximity</th>\n",
              "      <th>Cluster</th>\n",
              "    </tr>\n",
              "  </thead>\n",
              "  <tbody>\n",
              "    <tr>\n",
              "      <th>11353</th>\n",
              "      <td>-117.92</td>\n",
              "      <td>33.75</td>\n",
              "      <td>32.0</td>\n",
              "      <td>790.0</td>\n",
              "      <td>199.0</td>\n",
              "      <td>1196.0</td>\n",
              "      <td>201.0</td>\n",
              "      <td>3.0625</td>\n",
              "      <td>142800.0</td>\n",
              "      <td>&lt;1H OCEAN</td>\n",
              "      <td>0</td>\n",
              "    </tr>\n",
              "    <tr>\n",
              "      <th>9935</th>\n",
              "      <td>-122.30</td>\n",
              "      <td>38.27</td>\n",
              "      <td>4.0</td>\n",
              "      <td>1051.0</td>\n",
              "      <td>263.0</td>\n",
              "      <td>455.0</td>\n",
              "      <td>248.0</td>\n",
              "      <td>3.6389</td>\n",
              "      <td>130200.0</td>\n",
              "      <td>NEAR BAY</td>\n",
              "      <td>1</td>\n",
              "    </tr>\n",
              "    <tr>\n",
              "      <th>4465</th>\n",
              "      <td>-118.19</td>\n",
              "      <td>34.07</td>\n",
              "      <td>38.0</td>\n",
              "      <td>2965.0</td>\n",
              "      <td>665.0</td>\n",
              "      <td>2128.0</td>\n",
              "      <td>650.0</td>\n",
              "      <td>3.0241</td>\n",
              "      <td>166300.0</td>\n",
              "      <td>&lt;1H OCEAN</td>\n",
              "      <td>0</td>\n",
              "    </tr>\n",
              "    <tr>\n",
              "      <th>2283</th>\n",
              "      <td>-119.76</td>\n",
              "      <td>36.79</td>\n",
              "      <td>26.0</td>\n",
              "      <td>3654.0</td>\n",
              "      <td>837.0</td>\n",
              "      <td>1976.0</td>\n",
              "      <td>830.0</td>\n",
              "      <td>2.1544</td>\n",
              "      <td>72800.0</td>\n",
              "      <td>INLAND</td>\n",
              "      <td>1</td>\n",
              "    </tr>\n",
              "    <tr>\n",
              "      <th>2852</th>\n",
              "      <td>-118.96</td>\n",
              "      <td>35.38</td>\n",
              "      <td>41.0</td>\n",
              "      <td>2417.0</td>\n",
              "      <td>435.0</td>\n",
              "      <td>973.0</td>\n",
              "      <td>406.0</td>\n",
              "      <td>3.0568</td>\n",
              "      <td>85600.0</td>\n",
              "      <td>INLAND</td>\n",
              "      <td>0</td>\n",
              "    </tr>\n",
              "    <tr>\n",
              "      <th>9951</th>\n",
              "      <td>-122.40</td>\n",
              "      <td>38.41</td>\n",
              "      <td>20.0</td>\n",
              "      <td>4867.0</td>\n",
              "      <td>1015.0</td>\n",
              "      <td>1725.0</td>\n",
              "      <td>1015.0</td>\n",
              "      <td>2.5685</td>\n",
              "      <td>267600.0</td>\n",
              "      <td>INLAND</td>\n",
              "      <td>1</td>\n",
              "    </tr>\n",
              "    <tr>\n",
              "      <th>12989</th>\n",
              "      <td>-121.26</td>\n",
              "      <td>38.68</td>\n",
              "      <td>4.0</td>\n",
              "      <td>3080.0</td>\n",
              "      <td>827.0</td>\n",
              "      <td>1195.0</td>\n",
              "      <td>683.0</td>\n",
              "      <td>2.7477</td>\n",
              "      <td>133000.0</td>\n",
              "      <td>INLAND</td>\n",
              "      <td>1</td>\n",
              "    </tr>\n",
              "    <tr>\n",
              "      <th>7229</th>\n",
              "      <td>-118.16</td>\n",
              "      <td>34.02</td>\n",
              "      <td>44.0</td>\n",
              "      <td>1218.0</td>\n",
              "      <td>374.0</td>\n",
              "      <td>1175.0</td>\n",
              "      <td>342.0</td>\n",
              "      <td>1.9688</td>\n",
              "      <td>173900.0</td>\n",
              "      <td>&lt;1H OCEAN</td>\n",
              "      <td>0</td>\n",
              "    </tr>\n",
              "    <tr>\n",
              "      <th>1000</th>\n",
              "      <td>-121.76</td>\n",
              "      <td>37.69</td>\n",
              "      <td>29.0</td>\n",
              "      <td>3433.0</td>\n",
              "      <td>711.0</td>\n",
              "      <td>1919.0</td>\n",
              "      <td>709.0</td>\n",
              "      <td>3.3841</td>\n",
              "      <td>184400.0</td>\n",
              "      <td>INLAND</td>\n",
              "      <td>1</td>\n",
              "    </tr>\n",
              "    <tr>\n",
              "      <th>6180</th>\n",
              "      <td>-117.92</td>\n",
              "      <td>34.08</td>\n",
              "      <td>35.0</td>\n",
              "      <td>1860.0</td>\n",
              "      <td>323.0</td>\n",
              "      <td>1011.0</td>\n",
              "      <td>305.0</td>\n",
              "      <td>3.5536</td>\n",
              "      <td>207000.0</td>\n",
              "      <td>&lt;1H OCEAN</td>\n",
              "      <td>0</td>\n",
              "    </tr>\n",
              "  </tbody>\n",
              "</table>\n",
              "</div>"
            ],
            "text/plain": [
              "       longitude  latitude  ...  ocean_proximity  Cluster\n",
              "11353    -117.92     33.75  ...        <1H OCEAN        0\n",
              "9935     -122.30     38.27  ...         NEAR BAY        1\n",
              "4465     -118.19     34.07  ...        <1H OCEAN        0\n",
              "2283     -119.76     36.79  ...           INLAND        1\n",
              "2852     -118.96     35.38  ...           INLAND        0\n",
              "9951     -122.40     38.41  ...           INLAND        1\n",
              "12989    -121.26     38.68  ...           INLAND        1\n",
              "7229     -118.16     34.02  ...        <1H OCEAN        0\n",
              "1000     -121.76     37.69  ...           INLAND        1\n",
              "6180     -117.92     34.08  ...        <1H OCEAN        0\n",
              "\n",
              "[10 rows x 11 columns]"
            ]
          },
          "metadata": {},
          "execution_count": 16
        }
      ]
    },
    {
      "cell_type": "markdown",
      "metadata": {
        "id": "G1oPtoSYosau"
      },
      "source": [
        "# Visualisasi Data Clustering"
      ]
    },
    {
      "cell_type": "markdown",
      "metadata": {
        "id": "kQGXxSK7ouls"
      },
      "source": [
        "13.\tSetelah mendapatkan hasil clustering, kita dapat melakukan visualisasi untuk melihat lebih jelas bagaimana hasil clustering yang didapatkan. Untuk visualisasi data kita dapat memanfaatkan library matplotlib untuk membuat Scatter Plot. "
      ]
    },
    {
      "cell_type": "code",
      "metadata": {
        "colab": {
          "base_uri": "https://localhost:8080/",
          "height": 347
        },
        "id": "1YNAJk9p2EiO",
        "outputId": "85cbbfa6-007a-4912-94e1-c5650a1bf9e4"
      },
      "source": [
        "plt.scatter(x[:, 0], x[:, 1], c=y_kmeans, s=5, cmap='viridis')\n",
        "\n",
        "centers = kmeans_model.cluster_centers_\n",
        "plt.scatter(centers[:, 0], centers[:, 1], c='red', s=200, alpha=1);"
      ],
      "execution_count": 17,
      "outputs": [
        {
          "output_type": "display_data",
          "data": {
            "image/png": "[encoded data removed]",
            "text/plain": [
              "<Figure size 576x396 with 1 Axes>"
            ]
          },
          "metadata": {}
        }
      ]
    },
    {
      "cell_type": "code",
      "metadata": {
        "colab": {
          "base_uri": "https://localhost:8080/",
          "height": 394
        },
        "id": "YOoAGUuTyiag",
        "outputId": "ce9bb0e2-e033-4979-cc85-df053792a19e"
      },
      "source": [
        "# Visualising the clusters\n",
        "plt.scatter(x[y_kmeans == 0, 0], x[y_kmeans == 0, 1], \n",
        "            s = 50, c = 'red', label = 'Cluster 0')\n",
        "plt.scatter(x[y_kmeans == 1, 0], x[y_kmeans == 1, 1], \n",
        "            s = 50, c = 'blue', label = 'Cluster 1')\n",
        "\n",
        "# Plotting the centroids of the clusters\n",
        "plt.scatter(kmeans_model.cluster_centers_[:, 0], kmeans_model.cluster_centers_[:,1], \n",
        "            s = 100, c = 'yellow', label = 'centroids')\n",
        "plt.legend()\n",
        "\n",
        "plt.title('Clusters of Housing')\n",
        "plt.xlabel('longitude')\n",
        "plt.ylabel('latitude')"
      ],
      "execution_count": 18,
      "outputs": [
        {
          "output_type": "execute_result",
          "data": {
            "text/plain": [
              "Text(0, 0.5, 'latitude')"
            ]
          },
          "metadata": {},
          "execution_count": 18
        },
        {
          "output_type": "display_data",
          "data": {
            "image/png": "[encoded data removed]",
            "text/plain": [
              "<Figure size 576x396 with 1 Axes>"
            ]
          },
          "metadata": {}
        }
      ]
    }
  ]
}